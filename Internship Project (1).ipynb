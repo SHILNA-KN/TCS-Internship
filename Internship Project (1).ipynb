{
 "cells": [
  {
   "cell_type": "code",
   "execution_count": 1,
   "id": "4d45399f",
   "metadata": {},
   "outputs": [
    {
     "name": "stdout",
     "output_type": "stream",
     "text": [
      "Requirement already satisfied: spacy in c:\\users\\hp\\anaconda3\\lib\\site-packages (3.6.1)\n",
      "Requirement already satisfied: murmurhash<1.1.0,>=0.28.0 in c:\\users\\hp\\anaconda3\\lib\\site-packages (from spacy) (1.0.9)\n",
      "Requirement already satisfied: typer<0.10.0,>=0.3.0 in c:\\users\\hp\\anaconda3\\lib\\site-packages (from spacy) (0.9.0)\n",
      "Requirement already satisfied: catalogue<2.1.0,>=2.0.6 in c:\\users\\hp\\anaconda3\\lib\\site-packages (from spacy) (2.0.9)\n",
      "Requirement already satisfied: setuptools in c:\\users\\hp\\anaconda3\\lib\\site-packages (from spacy) (65.6.3)\n",
      "Requirement already satisfied: pathy>=0.10.0 in c:\\users\\hp\\anaconda3\\lib\\site-packages (from spacy) (0.10.2)\n",
      "Requirement already satisfied: numpy>=1.15.0 in c:\\users\\hp\\anaconda3\\lib\\site-packages (from spacy) (1.23.5)\n",
      "Requirement already satisfied: packaging>=20.0 in c:\\users\\hp\\anaconda3\\lib\\site-packages (from spacy) (22.0)\n",
      "Requirement already satisfied: cymem<2.1.0,>=2.0.2 in c:\\users\\hp\\anaconda3\\lib\\site-packages (from spacy) (2.0.7)\n",
      "Requirement already satisfied: srsly<3.0.0,>=2.4.3 in c:\\users\\hp\\anaconda3\\lib\\site-packages (from spacy) (2.4.7)\n",
      "Requirement already satisfied: thinc<8.2.0,>=8.1.8 in c:\\users\\hp\\anaconda3\\lib\\site-packages (from spacy) (8.1.12)\n",
      "Requirement already satisfied: jinja2 in c:\\users\\hp\\anaconda3\\lib\\site-packages (from spacy) (3.1.2)\n",
      "Requirement already satisfied: spacy-legacy<3.1.0,>=3.0.11 in c:\\users\\hp\\anaconda3\\lib\\site-packages (from spacy) (3.0.12)\n",
      "Requirement already satisfied: preshed<3.1.0,>=3.0.2 in c:\\users\\hp\\anaconda3\\lib\\site-packages (from spacy) (3.0.8)\n",
      "Requirement already satisfied: tqdm<5.0.0,>=4.38.0 in c:\\users\\hp\\anaconda3\\lib\\site-packages (from spacy) (4.64.1)\n",
      "Requirement already satisfied: spacy-loggers<2.0.0,>=1.0.0 in c:\\users\\hp\\anaconda3\\lib\\site-packages (from spacy) (1.0.5)\n",
      "Requirement already satisfied: pydantic!=1.8,!=1.8.1,<3.0.0,>=1.7.4 in c:\\users\\hp\\anaconda3\\lib\\site-packages (from spacy) (2.3.0)\n",
      "Requirement already satisfied: wasabi<1.2.0,>=0.9.1 in c:\\users\\hp\\anaconda3\\lib\\site-packages (from spacy) (1.1.2)\n",
      "Requirement already satisfied: smart-open<7.0.0,>=5.2.1 in c:\\users\\hp\\anaconda3\\lib\\site-packages (from spacy) (5.2.1)\n",
      "Requirement already satisfied: langcodes<4.0.0,>=3.2.0 in c:\\users\\hp\\anaconda3\\lib\\site-packages (from spacy) (3.3.0)\n",
      "Requirement already satisfied: requests<3.0.0,>=2.13.0 in c:\\users\\hp\\anaconda3\\lib\\site-packages (from spacy) (2.28.1)\n",
      "Requirement already satisfied: pydantic-core==2.6.3 in c:\\users\\hp\\anaconda3\\lib\\site-packages (from pydantic!=1.8,!=1.8.1,<3.0.0,>=1.7.4->spacy) (2.6.3)\n",
      "Requirement already satisfied: annotated-types>=0.4.0 in c:\\users\\hp\\anaconda3\\lib\\site-packages (from pydantic!=1.8,!=1.8.1,<3.0.0,>=1.7.4->spacy) (0.5.0)\n",
      "Requirement already satisfied: typing-extensions>=4.6.1 in c:\\users\\hp\\anaconda3\\lib\\site-packages (from pydantic!=1.8,!=1.8.1,<3.0.0,>=1.7.4->spacy) (4.7.1)\n",
      "Requirement already satisfied: certifi>=2017.4.17 in c:\\users\\hp\\anaconda3\\lib\\site-packages (from requests<3.0.0,>=2.13.0->spacy) (2023.5.7)\n",
      "Requirement already satisfied: idna<4,>=2.5 in c:\\users\\hp\\anaconda3\\lib\\site-packages (from requests<3.0.0,>=2.13.0->spacy) (3.4)\n",
      "Requirement already satisfied: charset-normalizer<3,>=2 in c:\\users\\hp\\anaconda3\\lib\\site-packages (from requests<3.0.0,>=2.13.0->spacy) (2.0.4)\n",
      "Requirement already satisfied: urllib3<1.27,>=1.21.1 in c:\\users\\hp\\anaconda3\\lib\\site-packages (from requests<3.0.0,>=2.13.0->spacy) (1.26.14)\n",
      "Requirement already satisfied: blis<0.8.0,>=0.7.8 in c:\\users\\hp\\anaconda3\\lib\\site-packages (from thinc<8.2.0,>=8.1.8->spacy) (0.7.10)\n",
      "Requirement already satisfied: confection<1.0.0,>=0.0.1 in c:\\users\\hp\\anaconda3\\lib\\site-packages (from thinc<8.2.0,>=8.1.8->spacy) (0.1.3)\n",
      "Requirement already satisfied: colorama in c:\\users\\hp\\anaconda3\\lib\\site-packages (from tqdm<5.0.0,>=4.38.0->spacy) (0.4.6)\n",
      "Requirement already satisfied: click<9.0.0,>=7.1.1 in c:\\users\\hp\\anaconda3\\lib\\site-packages (from typer<0.10.0,>=0.3.0->spacy) (8.0.4)\n",
      "Requirement already satisfied: MarkupSafe>=2.0 in c:\\users\\hp\\anaconda3\\lib\\site-packages (from jinja2->spacy) (2.1.1)\n",
      "Note: you may need to restart the kernel to use updated packages.\n"
     ]
    }
   ],
   "source": [
    "pip install spacy"
   ]
  },
  {
   "cell_type": "markdown",
   "id": "9d6ff2a3",
   "metadata": {},
   "source": [
    "### Importing necessary libraries"
   ]
  },
  {
   "cell_type": "code",
   "execution_count": 2,
   "id": "164aab54",
   "metadata": {},
   "outputs": [
    {
     "name": "stdout",
     "output_type": "stream",
     "text": [
      "Collecting en-core-web-sm==3.6.0\n",
      "  Downloading https://github.com/explosion/spacy-models/releases/download/en_core_web_sm-3.6.0/en_core_web_sm-3.6.0-py3-none-any.whl (12.8 MB)\n",
      "     ---------------------------------------- 12.8/12.8 MB 9.1 MB/s eta 0:00:00\n",
      "Requirement already satisfied: spacy<3.7.0,>=3.6.0 in c:\\users\\hp\\anaconda3\\lib\\site-packages (from en-core-web-sm==3.6.0) (3.6.1)\n",
      "Requirement already satisfied: setuptools in c:\\users\\hp\\anaconda3\\lib\\site-packages (from spacy<3.7.0,>=3.6.0->en-core-web-sm==3.6.0) (65.6.3)\n",
      "Requirement already satisfied: thinc<8.2.0,>=8.1.8 in c:\\users\\hp\\anaconda3\\lib\\site-packages (from spacy<3.7.0,>=3.6.0->en-core-web-sm==3.6.0) (8.1.12)\n",
      "Requirement already satisfied: pydantic!=1.8,!=1.8.1,<3.0.0,>=1.7.4 in c:\\users\\hp\\anaconda3\\lib\\site-packages (from spacy<3.7.0,>=3.6.0->en-core-web-sm==3.6.0) (2.3.0)\n",
      "Requirement already satisfied: requests<3.0.0,>=2.13.0 in c:\\users\\hp\\anaconda3\\lib\\site-packages (from spacy<3.7.0,>=3.6.0->en-core-web-sm==3.6.0) (2.28.1)\n",
      "Requirement already satisfied: spacy-legacy<3.1.0,>=3.0.11 in c:\\users\\hp\\anaconda3\\lib\\site-packages (from spacy<3.7.0,>=3.6.0->en-core-web-sm==3.6.0) (3.0.12)\n",
      "Requirement already satisfied: typer<0.10.0,>=0.3.0 in c:\\users\\hp\\anaconda3\\lib\\site-packages (from spacy<3.7.0,>=3.6.0->en-core-web-sm==3.6.0) (0.9.0)\n",
      "Requirement already satisfied: catalogue<2.1.0,>=2.0.6 in c:\\users\\hp\\anaconda3\\lib\\site-packages (from spacy<3.7.0,>=3.6.0->en-core-web-sm==3.6.0) (2.0.9)\n",
      "Requirement already satisfied: jinja2 in c:\\users\\hp\\anaconda3\\lib\\site-packages (from spacy<3.7.0,>=3.6.0->en-core-web-sm==3.6.0) (3.1.2)\n",
      "Requirement already satisfied: pathy>=0.10.0 in c:\\users\\hp\\anaconda3\\lib\\site-packages (from spacy<3.7.0,>=3.6.0->en-core-web-sm==3.6.0) (0.10.2)\n",
      "Requirement already satisfied: spacy-loggers<2.0.0,>=1.0.0 in c:\\users\\hp\\anaconda3\\lib\\site-packages (from spacy<3.7.0,>=3.6.0->en-core-web-sm==3.6.0) (1.0.5)\n",
      "Requirement already satisfied: srsly<3.0.0,>=2.4.3 in c:\\users\\hp\\anaconda3\\lib\\site-packages (from spacy<3.7.0,>=3.6.0->en-core-web-sm==3.6.0) (2.4.7)\n",
      "Requirement already satisfied: wasabi<1.2.0,>=0.9.1 in c:\\users\\hp\\anaconda3\\lib\\site-packages (from spacy<3.7.0,>=3.6.0->en-core-web-sm==3.6.0) (1.1.2)\n",
      "Requirement already satisfied: numpy>=1.15.0 in c:\\users\\hp\\anaconda3\\lib\\site-packages (from spacy<3.7.0,>=3.6.0->en-core-web-sm==3.6.0) (1.23.5)\n",
      "Requirement already satisfied: langcodes<4.0.0,>=3.2.0 in c:\\users\\hp\\anaconda3\\lib\\site-packages (from spacy<3.7.0,>=3.6.0->en-core-web-sm==3.6.0) (3.3.0)\n",
      "Requirement already satisfied: preshed<3.1.0,>=3.0.2 in c:\\users\\hp\\anaconda3\\lib\\site-packages (from spacy<3.7.0,>=3.6.0->en-core-web-sm==3.6.0) (3.0.8)\n",
      "Requirement already satisfied: smart-open<7.0.0,>=5.2.1 in c:\\users\\hp\\anaconda3\\lib\\site-packages (from spacy<3.7.0,>=3.6.0->en-core-web-sm==3.6.0) (5.2.1)\n",
      "Requirement already satisfied: tqdm<5.0.0,>=4.38.0 in c:\\users\\hp\\anaconda3\\lib\\site-packages (from spacy<3.7.0,>=3.6.0->en-core-web-sm==3.6.0) (4.64.1)\n",
      "Requirement already satisfied: cymem<2.1.0,>=2.0.2 in c:\\users\\hp\\anaconda3\\lib\\site-packages (from spacy<3.7.0,>=3.6.0->en-core-web-sm==3.6.0) (2.0.7)\n",
      "Requirement already satisfied: murmurhash<1.1.0,>=0.28.0 in c:\\users\\hp\\anaconda3\\lib\\site-packages (from spacy<3.7.0,>=3.6.0->en-core-web-sm==3.6.0) (1.0.9)\n",
      "Requirement already satisfied: packaging>=20.0 in c:\\users\\hp\\anaconda3\\lib\\site-packages (from spacy<3.7.0,>=3.6.0->en-core-web-sm==3.6.0) (22.0)\n",
      "Requirement already satisfied: typing-extensions>=4.6.1 in c:\\users\\hp\\anaconda3\\lib\\site-packages (from pydantic!=1.8,!=1.8.1,<3.0.0,>=1.7.4->spacy<3.7.0,>=3.6.0->en-core-web-sm==3.6.0) (4.7.1)\n",
      "Requirement already satisfied: pydantic-core==2.6.3 in c:\\users\\hp\\anaconda3\\lib\\site-packages (from pydantic!=1.8,!=1.8.1,<3.0.0,>=1.7.4->spacy<3.7.0,>=3.6.0->en-core-web-sm==3.6.0) (2.6.3)\n",
      "Requirement already satisfied: annotated-types>=0.4.0 in c:\\users\\hp\\anaconda3\\lib\\site-packages (from pydantic!=1.8,!=1.8.1,<3.0.0,>=1.7.4->spacy<3.7.0,>=3.6.0->en-core-web-sm==3.6.0) (0.5.0)\n",
      "Requirement already satisfied: certifi>=2017.4.17 in c:\\users\\hp\\anaconda3\\lib\\site-packages (from requests<3.0.0,>=2.13.0->spacy<3.7.0,>=3.6.0->en-core-web-sm==3.6.0) (2023.5.7)\n",
      "Requirement already satisfied: idna<4,>=2.5 in c:\\users\\hp\\anaconda3\\lib\\site-packages (from requests<3.0.0,>=2.13.0->spacy<3.7.0,>=3.6.0->en-core-web-sm==3.6.0) (3.4)\n",
      "Requirement already satisfied: urllib3<1.27,>=1.21.1 in c:\\users\\hp\\anaconda3\\lib\\site-packages (from requests<3.0.0,>=2.13.0->spacy<3.7.0,>=3.6.0->en-core-web-sm==3.6.0) (1.26.14)\n",
      "Requirement already satisfied: charset-normalizer<3,>=2 in c:\\users\\hp\\anaconda3\\lib\\site-packages (from requests<3.0.0,>=2.13.0->spacy<3.7.0,>=3.6.0->en-core-web-sm==3.6.0) (2.0.4)\n",
      "Requirement already satisfied: blis<0.8.0,>=0.7.8 in c:\\users\\hp\\anaconda3\\lib\\site-packages (from thinc<8.2.0,>=8.1.8->spacy<3.7.0,>=3.6.0->en-core-web-sm==3.6.0) (0.7.10)\n",
      "Requirement already satisfied: confection<1.0.0,>=0.0.1 in c:\\users\\hp\\anaconda3\\lib\\site-packages (from thinc<8.2.0,>=8.1.8->spacy<3.7.0,>=3.6.0->en-core-web-sm==3.6.0) (0.1.3)\n",
      "Requirement already satisfied: colorama in c:\\users\\hp\\anaconda3\\lib\\site-packages (from tqdm<5.0.0,>=4.38.0->spacy<3.7.0,>=3.6.0->en-core-web-sm==3.6.0) (0.4.6)\n",
      "Requirement already satisfied: click<9.0.0,>=7.1.1 in c:\\users\\hp\\anaconda3\\lib\\site-packages (from typer<0.10.0,>=0.3.0->spacy<3.7.0,>=3.6.0->en-core-web-sm==3.6.0) (8.0.4)\n",
      "Requirement already satisfied: MarkupSafe>=2.0 in c:\\users\\hp\\anaconda3\\lib\\site-packages (from jinja2->spacy<3.7.0,>=3.6.0->en-core-web-sm==3.6.0) (2.1.1)\n",
      "\u001b[38;5;2m[+] Download and installation successful\u001b[0m\n",
      "You can now load the package via spacy.load('en_core_web_sm')\n"
     ]
    }
   ],
   "source": [
    "!python -m spacy download en_core_web_sm"
   ]
  },
  {
   "cell_type": "code",
   "execution_count": 3,
   "id": "73302a50",
   "metadata": {},
   "outputs": [],
   "source": [
    "import string"
   ]
  },
  {
   "cell_type": "code",
   "execution_count": 4,
   "id": "1ba929ee",
   "metadata": {},
   "outputs": [],
   "source": [
    "import numpy as np\n",
    "import pandas as pd\n",
    "from random import choice, sample\n",
    "import matplotlib.pyplot as plt\n",
    "import plotly.express as px\n",
    "import seaborn as sns\n",
    "%matplotlib inline\n",
    "from sklearn.pipeline import Pipeline\n",
    "import spacy\n",
    "\n",
    "from collections import Counter\n",
    "from nltk.corpus import stopwords\n",
    "\n",
    "import warnings\n",
    "warnings.filterwarnings(\"ignore\")\n",
    "\n",
    "\n",
    "from sklearn.feature_extraction.text import ENGLISH_STOP_WORDS as sklearn_stop_words\n",
    "from sklearn.feature_extraction.text import CountVectorizer\n",
    "from sklearn.feature_extraction.text import TfidfVectorizer"
   ]
  },
  {
   "cell_type": "markdown",
   "id": "4006ed5b",
   "metadata": {},
   "source": [
    "### Loading dataset"
   ]
  },
  {
   "cell_type": "code",
   "execution_count": 5,
   "id": "1585d136",
   "metadata": {},
   "outputs": [],
   "source": [
    "data = pd.read_csv(r\"C:\\Users\\HP\\Downloads\\archive (2)\\webmd.csv\")"
   ]
  },
  {
   "cell_type": "code",
   "execution_count": 6,
   "id": "26c32d42",
   "metadata": {},
   "outputs": [
    {
     "data": {
      "text/html": [
       "<div>\n",
       "<style scoped>\n",
       "    .dataframe tbody tr th:only-of-type {\n",
       "        vertical-align: middle;\n",
       "    }\n",
       "\n",
       "    .dataframe tbody tr th {\n",
       "        vertical-align: top;\n",
       "    }\n",
       "\n",
       "    .dataframe thead th {\n",
       "        text-align: right;\n",
       "    }\n",
       "</style>\n",
       "<table border=\"1\" class=\"dataframe\">\n",
       "  <thead>\n",
       "    <tr style=\"text-align: right;\">\n",
       "      <th></th>\n",
       "      <th>Age</th>\n",
       "      <th>Condition</th>\n",
       "      <th>Date</th>\n",
       "      <th>Drug</th>\n",
       "      <th>DrugId</th>\n",
       "      <th>EaseofUse</th>\n",
       "      <th>Effectiveness</th>\n",
       "      <th>Reviews</th>\n",
       "      <th>Satisfaction</th>\n",
       "      <th>Sex</th>\n",
       "      <th>Sides</th>\n",
       "      <th>UsefulCount</th>\n",
       "    </tr>\n",
       "  </thead>\n",
       "  <tbody>\n",
       "    <tr>\n",
       "      <th>0</th>\n",
       "      <td>75 or over</td>\n",
       "      <td>Stuffy Nose</td>\n",
       "      <td>9/21/2014</td>\n",
       "      <td>25dph-7.5peh</td>\n",
       "      <td>146724</td>\n",
       "      <td>5</td>\n",
       "      <td>5</td>\n",
       "      <td>I'm a retired physician and of all the meds I ...</td>\n",
       "      <td>5</td>\n",
       "      <td>Male</td>\n",
       "      <td>Drowsiness,  dizziness ,  dry mouth /nose/thro...</td>\n",
       "      <td>0</td>\n",
       "    </tr>\n",
       "    <tr>\n",
       "      <th>1</th>\n",
       "      <td>25-34</td>\n",
       "      <td>Cold Symptoms</td>\n",
       "      <td>1/13/2011</td>\n",
       "      <td>25dph-7.5peh</td>\n",
       "      <td>146724</td>\n",
       "      <td>5</td>\n",
       "      <td>5</td>\n",
       "      <td>cleared me right up even with my throat hurtin...</td>\n",
       "      <td>5</td>\n",
       "      <td>Female</td>\n",
       "      <td>Drowsiness,  dizziness ,  dry mouth /nose/thro...</td>\n",
       "      <td>1</td>\n",
       "    </tr>\n",
       "    <tr>\n",
       "      <th>2</th>\n",
       "      <td>65-74</td>\n",
       "      <td>Other</td>\n",
       "      <td>7/16/2012</td>\n",
       "      <td>warfarin (bulk) 100 % powder</td>\n",
       "      <td>144731</td>\n",
       "      <td>2</td>\n",
       "      <td>3</td>\n",
       "      <td>why did my PTINR go from a normal of 2.5 to ov...</td>\n",
       "      <td>3</td>\n",
       "      <td>Female</td>\n",
       "      <td></td>\n",
       "      <td>0</td>\n",
       "    </tr>\n",
       "    <tr>\n",
       "      <th>3</th>\n",
       "      <td>75 or over</td>\n",
       "      <td>Other</td>\n",
       "      <td>9/23/2010</td>\n",
       "      <td>warfarin (bulk) 100 % powder</td>\n",
       "      <td>144731</td>\n",
       "      <td>2</td>\n",
       "      <td>2</td>\n",
       "      <td>FALLING AND DON'T REALISE IT</td>\n",
       "      <td>1</td>\n",
       "      <td>Female</td>\n",
       "      <td></td>\n",
       "      <td>0</td>\n",
       "    </tr>\n",
       "    <tr>\n",
       "      <th>4</th>\n",
       "      <td>35-44</td>\n",
       "      <td>Other</td>\n",
       "      <td>1/6/2009</td>\n",
       "      <td>warfarin (bulk) 100 % powder</td>\n",
       "      <td>144731</td>\n",
       "      <td>1</td>\n",
       "      <td>1</td>\n",
       "      <td>My grandfather was prescribed this medication ...</td>\n",
       "      <td>1</td>\n",
       "      <td>Male</td>\n",
       "      <td></td>\n",
       "      <td>1</td>\n",
       "    </tr>\n",
       "    <tr>\n",
       "      <th>...</th>\n",
       "      <td>...</td>\n",
       "      <td>...</td>\n",
       "      <td>...</td>\n",
       "      <td>...</td>\n",
       "      <td>...</td>\n",
       "      <td>...</td>\n",
       "      <td>...</td>\n",
       "      <td>...</td>\n",
       "      <td>...</td>\n",
       "      <td>...</td>\n",
       "      <td>...</td>\n",
       "      <td>...</td>\n",
       "    </tr>\n",
       "    <tr>\n",
       "      <th>362801</th>\n",
       "      <td>55-64</td>\n",
       "      <td>Stop Smoking</td>\n",
       "      <td>11/14/2008</td>\n",
       "      <td>chantix</td>\n",
       "      <td>144470</td>\n",
       "      <td>5</td>\n",
       "      <td>5</td>\n",
       "      <td>I took the whole 12 weeks.I could have stopped...</td>\n",
       "      <td>5</td>\n",
       "      <td>Female</td>\n",
       "      <td>Nausea ,  headache ,  vomiting , drowsiness, g...</td>\n",
       "      <td>2</td>\n",
       "    </tr>\n",
       "    <tr>\n",
       "      <th>362802</th>\n",
       "      <td></td>\n",
       "      <td>Other</td>\n",
       "      <td>11/14/2008</td>\n",
       "      <td>chantix</td>\n",
       "      <td>144470</td>\n",
       "      <td>2</td>\n",
       "      <td>3</td>\n",
       "      <td>My dad strated taking Chantix about 1 month ag...</td>\n",
       "      <td>1</td>\n",
       "      <td></td>\n",
       "      <td>Nausea ,  headache ,  vomiting , drowsiness, g...</td>\n",
       "      <td>16</td>\n",
       "    </tr>\n",
       "    <tr>\n",
       "      <th>362803</th>\n",
       "      <td>25-34</td>\n",
       "      <td>Stop Smoking</td>\n",
       "      <td>11/13/2008</td>\n",
       "      <td>chantix</td>\n",
       "      <td>144470</td>\n",
       "      <td>2</td>\n",
       "      <td>4</td>\n",
       "      <td>As long as I was on chantix, I didn't smoke.  ...</td>\n",
       "      <td>2</td>\n",
       "      <td>Female</td>\n",
       "      <td>Nausea ,  headache ,  vomiting , drowsiness, g...</td>\n",
       "      <td>3</td>\n",
       "    </tr>\n",
       "    <tr>\n",
       "      <th>362804</th>\n",
       "      <td>55-64</td>\n",
       "      <td>Stop Smoking</td>\n",
       "      <td>11/13/2008</td>\n",
       "      <td>chantix</td>\n",
       "      <td>144470</td>\n",
       "      <td>5</td>\n",
       "      <td>5</td>\n",
       "      <td>Started this medication Oct 5th 2008. Haven't ...</td>\n",
       "      <td>5</td>\n",
       "      <td>Male</td>\n",
       "      <td>Nausea ,  headache ,  vomiting , drowsiness, g...</td>\n",
       "      <td>1</td>\n",
       "    </tr>\n",
       "    <tr>\n",
       "      <th>362805</th>\n",
       "      <td>45-54</td>\n",
       "      <td>Stop Smoking</td>\n",
       "      <td>11/12/2008</td>\n",
       "      <td>chantix</td>\n",
       "      <td>144470</td>\n",
       "      <td>4</td>\n",
       "      <td>5</td>\n",
       "      <td>One year ago, I tried Chantix and had to stop ...</td>\n",
       "      <td>5</td>\n",
       "      <td>Female</td>\n",
       "      <td>Nausea ,  headache ,  vomiting , drowsiness, g...</td>\n",
       "      <td>3</td>\n",
       "    </tr>\n",
       "  </tbody>\n",
       "</table>\n",
       "<p>362806 rows × 12 columns</p>\n",
       "</div>"
      ],
      "text/plain": [
       "               Age      Condition        Date                          Drug  \\\n",
       "0       75 or over    Stuffy Nose   9/21/2014                  25dph-7.5peh   \n",
       "1            25-34  Cold Symptoms   1/13/2011                  25dph-7.5peh   \n",
       "2            65-74          Other   7/16/2012  warfarin (bulk) 100 % powder   \n",
       "3       75 or over          Other   9/23/2010  warfarin (bulk) 100 % powder   \n",
       "4            35-44          Other    1/6/2009  warfarin (bulk) 100 % powder   \n",
       "...            ...            ...         ...                           ...   \n",
       "362801       55-64   Stop Smoking  11/14/2008                       chantix   \n",
       "362802                      Other  11/14/2008                       chantix   \n",
       "362803       25-34   Stop Smoking  11/13/2008                       chantix   \n",
       "362804       55-64   Stop Smoking  11/13/2008                       chantix   \n",
       "362805       45-54   Stop Smoking  11/12/2008                       chantix   \n",
       "\n",
       "        DrugId  EaseofUse  Effectiveness  \\\n",
       "0       146724          5              5   \n",
       "1       146724          5              5   \n",
       "2       144731          2              3   \n",
       "3       144731          2              2   \n",
       "4       144731          1              1   \n",
       "...        ...        ...            ...   \n",
       "362801  144470          5              5   \n",
       "362802  144470          2              3   \n",
       "362803  144470          2              4   \n",
       "362804  144470          5              5   \n",
       "362805  144470          4              5   \n",
       "\n",
       "                                                  Reviews  Satisfaction  \\\n",
       "0       I'm a retired physician and of all the meds I ...             5   \n",
       "1       cleared me right up even with my throat hurtin...             5   \n",
       "2       why did my PTINR go from a normal of 2.5 to ov...             3   \n",
       "3                            FALLING AND DON'T REALISE IT             1   \n",
       "4       My grandfather was prescribed this medication ...             1   \n",
       "...                                                   ...           ...   \n",
       "362801  I took the whole 12 weeks.I could have stopped...             5   \n",
       "362802  My dad strated taking Chantix about 1 month ag...             1   \n",
       "362803  As long as I was on chantix, I didn't smoke.  ...             2   \n",
       "362804  Started this medication Oct 5th 2008. Haven't ...             5   \n",
       "362805  One year ago, I tried Chantix and had to stop ...             5   \n",
       "\n",
       "           Sex                                              Sides  UsefulCount  \n",
       "0         Male  Drowsiness,  dizziness ,  dry mouth /nose/thro...            0  \n",
       "1       Female  Drowsiness,  dizziness ,  dry mouth /nose/thro...            1  \n",
       "2       Female                                                               0  \n",
       "3       Female                                                               0  \n",
       "4         Male                                                               1  \n",
       "...        ...                                                ...          ...  \n",
       "362801  Female  Nausea ,  headache ,  vomiting , drowsiness, g...            2  \n",
       "362802          Nausea ,  headache ,  vomiting , drowsiness, g...           16  \n",
       "362803  Female  Nausea ,  headache ,  vomiting , drowsiness, g...            3  \n",
       "362804    Male  Nausea ,  headache ,  vomiting , drowsiness, g...            1  \n",
       "362805  Female  Nausea ,  headache ,  vomiting , drowsiness, g...            3  \n",
       "\n",
       "[362806 rows x 12 columns]"
      ]
     },
     "execution_count": 6,
     "metadata": {},
     "output_type": "execute_result"
    }
   ],
   "source": [
    "data"
   ]
  },
  {
   "cell_type": "markdown",
   "id": "03e0b6bb",
   "metadata": {},
   "source": [
    "### Adding name and race columns"
   ]
  },
  {
   "cell_type": "code",
   "execution_count": 7,
   "id": "f9417122",
   "metadata": {},
   "outputs": [
    {
     "name": "stdout",
     "output_type": "stream",
     "text": [
      "Requirement already satisfied: mimesis in c:\\users\\hp\\anaconda3\\lib\\site-packages (11.1.0)\n",
      "Note: you may need to restart the kernel to use updated packages.\n"
     ]
    }
   ],
   "source": [
    "pip install mimesis"
   ]
  },
  {
   "cell_type": "code",
   "execution_count": 8,
   "id": "8ae4b2fb",
   "metadata": {},
   "outputs": [
    {
     "data": {
      "text/html": [
       "<div>\n",
       "<style scoped>\n",
       "    .dataframe tbody tr th:only-of-type {\n",
       "        vertical-align: middle;\n",
       "    }\n",
       "\n",
       "    .dataframe tbody tr th {\n",
       "        vertical-align: top;\n",
       "    }\n",
       "\n",
       "    .dataframe thead th {\n",
       "        text-align: right;\n",
       "    }\n",
       "</style>\n",
       "<table border=\"1\" class=\"dataframe\">\n",
       "  <thead>\n",
       "    <tr style=\"text-align: right;\">\n",
       "      <th></th>\n",
       "      <th>Name</th>\n",
       "    </tr>\n",
       "  </thead>\n",
       "  <tbody>\n",
       "    <tr>\n",
       "      <th>0</th>\n",
       "      <td>Alita</td>\n",
       "    </tr>\n",
       "    <tr>\n",
       "      <th>1</th>\n",
       "      <td>Buford</td>\n",
       "    </tr>\n",
       "    <tr>\n",
       "      <th>2</th>\n",
       "      <td>Stanford</td>\n",
       "    </tr>\n",
       "    <tr>\n",
       "      <th>3</th>\n",
       "      <td>Amira</td>\n",
       "    </tr>\n",
       "    <tr>\n",
       "      <th>4</th>\n",
       "      <td>Meg</td>\n",
       "    </tr>\n",
       "    <tr>\n",
       "      <th>5</th>\n",
       "      <td>Cory</td>\n",
       "    </tr>\n",
       "    <tr>\n",
       "      <th>6</th>\n",
       "      <td>Alex</td>\n",
       "    </tr>\n",
       "    <tr>\n",
       "      <th>7</th>\n",
       "      <td>Lincoln</td>\n",
       "    </tr>\n",
       "    <tr>\n",
       "      <th>8</th>\n",
       "      <td>Luther</td>\n",
       "    </tr>\n",
       "    <tr>\n",
       "      <th>9</th>\n",
       "      <td>Tamatha</td>\n",
       "    </tr>\n",
       "  </tbody>\n",
       "</table>\n",
       "</div>"
      ],
      "text/plain": [
       "       Name\n",
       "0     Alita\n",
       "1    Buford\n",
       "2  Stanford\n",
       "3     Amira\n",
       "4       Meg\n",
       "5      Cory\n",
       "6      Alex\n",
       "7   Lincoln\n",
       "8    Luther\n",
       "9   Tamatha"
      ]
     },
     "execution_count": 8,
     "metadata": {},
     "output_type": "execute_result"
    }
   ],
   "source": [
    "# Name:\n",
    "\n",
    "from mimesis import Person\n",
    "person = Person('en')\n",
    "\n",
    "# function to create names to exact rows\n",
    "def fake_names(n):\n",
    "   name = []\n",
    "   for _ in range(0, n):\n",
    "        name.append(person.name())\n",
    "   return name\n",
    "\n",
    "names = fake_names(362806)\n",
    "\n",
    "data_name = pd.DataFrame(list(zip(names)),columns = ['Name'])\n",
    "\n",
    "data_name.head(10)"
   ]
  },
  {
   "cell_type": "code",
   "execution_count": 9,
   "id": "ec1ca721",
   "metadata": {},
   "outputs": [
    {
     "data": {
      "text/html": [
       "<div>\n",
       "<style scoped>\n",
       "    .dataframe tbody tr th:only-of-type {\n",
       "        vertical-align: middle;\n",
       "    }\n",
       "\n",
       "    .dataframe tbody tr th {\n",
       "        vertical-align: top;\n",
       "    }\n",
       "\n",
       "    .dataframe thead th {\n",
       "        text-align: right;\n",
       "    }\n",
       "</style>\n",
       "<table border=\"1\" class=\"dataframe\">\n",
       "  <thead>\n",
       "    <tr style=\"text-align: right;\">\n",
       "      <th></th>\n",
       "      <th>Race</th>\n",
       "    </tr>\n",
       "  </thead>\n",
       "  <tbody>\n",
       "    <tr>\n",
       "      <th>0</th>\n",
       "      <td>Black</td>\n",
       "    </tr>\n",
       "    <tr>\n",
       "      <th>1</th>\n",
       "      <td>Hispanic</td>\n",
       "    </tr>\n",
       "    <tr>\n",
       "      <th>2</th>\n",
       "      <td>Black</td>\n",
       "    </tr>\n",
       "    <tr>\n",
       "      <th>3</th>\n",
       "      <td>Asian</td>\n",
       "    </tr>\n",
       "    <tr>\n",
       "      <th>4</th>\n",
       "      <td>Black</td>\n",
       "    </tr>\n",
       "    <tr>\n",
       "      <th>5</th>\n",
       "      <td>White</td>\n",
       "    </tr>\n",
       "    <tr>\n",
       "      <th>6</th>\n",
       "      <td>Black</td>\n",
       "    </tr>\n",
       "    <tr>\n",
       "      <th>7</th>\n",
       "      <td>White</td>\n",
       "    </tr>\n",
       "    <tr>\n",
       "      <th>8</th>\n",
       "      <td>Hispanic</td>\n",
       "    </tr>\n",
       "    <tr>\n",
       "      <th>9</th>\n",
       "      <td>White</td>\n",
       "    </tr>\n",
       "  </tbody>\n",
       "</table>\n",
       "</div>"
      ],
      "text/plain": [
       "       Race\n",
       "0     Black\n",
       "1  Hispanic\n",
       "2     Black\n",
       "3     Asian\n",
       "4     Black\n",
       "5     White\n",
       "6     Black\n",
       "7     White\n",
       "8  Hispanic\n",
       "9     White"
      ]
     },
     "execution_count": 9,
     "metadata": {},
     "output_type": "execute_result"
    }
   ],
   "source": [
    "# Race:\n",
    "\n",
    "import random\n",
    "\n",
    "options = [(\"White\", 0.32), (\"Hispanic\", 0.28), (\"Black\", 0.22), (\"Asian\", 0.18)]\n",
    "words = []\n",
    "\n",
    "for i in range(362806):\n",
    "    word = random.choices([o[0] for o in options], [o[1] for o in options])[0]\n",
    "    words.append(word)\n",
    "\n",
    "data_race=pd.DataFrame(words, columns = ['Race'])\n",
    "\n",
    "data_race.head(10)"
   ]
  },
  {
   "cell_type": "code",
   "execution_count": 10,
   "id": "42596b47",
   "metadata": {},
   "outputs": [
    {
     "data": {
      "text/html": [
       "<div>\n",
       "<style scoped>\n",
       "    .dataframe tbody tr th:only-of-type {\n",
       "        vertical-align: middle;\n",
       "    }\n",
       "\n",
       "    .dataframe tbody tr th {\n",
       "        vertical-align: top;\n",
       "    }\n",
       "\n",
       "    .dataframe thead th {\n",
       "        text-align: right;\n",
       "    }\n",
       "</style>\n",
       "<table border=\"1\" class=\"dataframe\">\n",
       "  <thead>\n",
       "    <tr style=\"text-align: right;\">\n",
       "      <th></th>\n",
       "      <th>Name</th>\n",
       "      <th>Race</th>\n",
       "      <th>Age</th>\n",
       "      <th>Condition</th>\n",
       "      <th>Date</th>\n",
       "      <th>Drug</th>\n",
       "      <th>DrugId</th>\n",
       "      <th>EaseofUse</th>\n",
       "      <th>Effectiveness</th>\n",
       "      <th>Reviews</th>\n",
       "      <th>Satisfaction</th>\n",
       "      <th>Sex</th>\n",
       "      <th>Sides</th>\n",
       "      <th>UsefulCount</th>\n",
       "    </tr>\n",
       "  </thead>\n",
       "  <tbody>\n",
       "    <tr>\n",
       "      <th>0</th>\n",
       "      <td>Alita</td>\n",
       "      <td>Black</td>\n",
       "      <td>75 or over</td>\n",
       "      <td>Stuffy Nose</td>\n",
       "      <td>9/21/2014</td>\n",
       "      <td>25dph-7.5peh</td>\n",
       "      <td>146724</td>\n",
       "      <td>5</td>\n",
       "      <td>5</td>\n",
       "      <td>I'm a retired physician and of all the meds I ...</td>\n",
       "      <td>5</td>\n",
       "      <td>Male</td>\n",
       "      <td>Drowsiness,  dizziness ,  dry mouth /nose/thro...</td>\n",
       "      <td>0</td>\n",
       "    </tr>\n",
       "    <tr>\n",
       "      <th>1</th>\n",
       "      <td>Buford</td>\n",
       "      <td>Hispanic</td>\n",
       "      <td>25-34</td>\n",
       "      <td>Cold Symptoms</td>\n",
       "      <td>1/13/2011</td>\n",
       "      <td>25dph-7.5peh</td>\n",
       "      <td>146724</td>\n",
       "      <td>5</td>\n",
       "      <td>5</td>\n",
       "      <td>cleared me right up even with my throat hurtin...</td>\n",
       "      <td>5</td>\n",
       "      <td>Female</td>\n",
       "      <td>Drowsiness,  dizziness ,  dry mouth /nose/thro...</td>\n",
       "      <td>1</td>\n",
       "    </tr>\n",
       "    <tr>\n",
       "      <th>2</th>\n",
       "      <td>Stanford</td>\n",
       "      <td>Black</td>\n",
       "      <td>65-74</td>\n",
       "      <td>Other</td>\n",
       "      <td>7/16/2012</td>\n",
       "      <td>warfarin (bulk) 100 % powder</td>\n",
       "      <td>144731</td>\n",
       "      <td>2</td>\n",
       "      <td>3</td>\n",
       "      <td>why did my PTINR go from a normal of 2.5 to ov...</td>\n",
       "      <td>3</td>\n",
       "      <td>Female</td>\n",
       "      <td></td>\n",
       "      <td>0</td>\n",
       "    </tr>\n",
       "    <tr>\n",
       "      <th>3</th>\n",
       "      <td>Amira</td>\n",
       "      <td>Asian</td>\n",
       "      <td>75 or over</td>\n",
       "      <td>Other</td>\n",
       "      <td>9/23/2010</td>\n",
       "      <td>warfarin (bulk) 100 % powder</td>\n",
       "      <td>144731</td>\n",
       "      <td>2</td>\n",
       "      <td>2</td>\n",
       "      <td>FALLING AND DON'T REALISE IT</td>\n",
       "      <td>1</td>\n",
       "      <td>Female</td>\n",
       "      <td></td>\n",
       "      <td>0</td>\n",
       "    </tr>\n",
       "    <tr>\n",
       "      <th>4</th>\n",
       "      <td>Meg</td>\n",
       "      <td>Black</td>\n",
       "      <td>35-44</td>\n",
       "      <td>Other</td>\n",
       "      <td>1/6/2009</td>\n",
       "      <td>warfarin (bulk) 100 % powder</td>\n",
       "      <td>144731</td>\n",
       "      <td>1</td>\n",
       "      <td>1</td>\n",
       "      <td>My grandfather was prescribed this medication ...</td>\n",
       "      <td>1</td>\n",
       "      <td>Male</td>\n",
       "      <td></td>\n",
       "      <td>1</td>\n",
       "    </tr>\n",
       "  </tbody>\n",
       "</table>\n",
       "</div>"
      ],
      "text/plain": [
       "       Name      Race         Age      Condition       Date  \\\n",
       "0     Alita     Black  75 or over    Stuffy Nose  9/21/2014   \n",
       "1    Buford  Hispanic       25-34  Cold Symptoms  1/13/2011   \n",
       "2  Stanford     Black       65-74          Other  7/16/2012   \n",
       "3     Amira     Asian  75 or over          Other  9/23/2010   \n",
       "4       Meg     Black       35-44          Other   1/6/2009   \n",
       "\n",
       "                           Drug  DrugId  EaseofUse  Effectiveness  \\\n",
       "0                  25dph-7.5peh  146724          5              5   \n",
       "1                  25dph-7.5peh  146724          5              5   \n",
       "2  warfarin (bulk) 100 % powder  144731          2              3   \n",
       "3  warfarin (bulk) 100 % powder  144731          2              2   \n",
       "4  warfarin (bulk) 100 % powder  144731          1              1   \n",
       "\n",
       "                                             Reviews  Satisfaction     Sex  \\\n",
       "0  I'm a retired physician and of all the meds I ...             5    Male   \n",
       "1  cleared me right up even with my throat hurtin...             5  Female   \n",
       "2  why did my PTINR go from a normal of 2.5 to ov...             3  Female   \n",
       "3                       FALLING AND DON'T REALISE IT             1  Female   \n",
       "4  My grandfather was prescribed this medication ...             1    Male   \n",
       "\n",
       "                                               Sides  UsefulCount  \n",
       "0  Drowsiness,  dizziness ,  dry mouth /nose/thro...            0  \n",
       "1  Drowsiness,  dizziness ,  dry mouth /nose/thro...            1  \n",
       "2                                                               0  \n",
       "3                                                               0  \n",
       "4                                                               1  "
      ]
     },
     "execution_count": 10,
     "metadata": {},
     "output_type": "execute_result"
    }
   ],
   "source": [
    "df = pd.concat([data_name, data_race, data], axis=1).reindex(data.index)\n",
    "df.head()"
   ]
  },
  {
   "cell_type": "markdown",
   "id": "25a2e94c",
   "metadata": {},
   "source": [
    "Here Is the final dataset , let's do some basic analysis on it"
   ]
  },
  {
   "cell_type": "code",
   "execution_count": 11,
   "id": "03c6b14f",
   "metadata": {},
   "outputs": [
    {
     "data": {
      "text/plain": [
       "(362806, 14)"
      ]
     },
     "execution_count": 11,
     "metadata": {},
     "output_type": "execute_result"
    }
   ],
   "source": [
    "df.shape"
   ]
  },
  {
   "cell_type": "code",
   "execution_count": 12,
   "id": "e1f263fc",
   "metadata": {},
   "outputs": [
    {
     "name": "stdout",
     "output_type": "stream",
     "text": [
      "<class 'pandas.core.frame.DataFrame'>\n",
      "RangeIndex: 362806 entries, 0 to 362805\n",
      "Data columns (total 14 columns):\n",
      " #   Column         Non-Null Count   Dtype \n",
      "---  ------         --------------   ----- \n",
      " 0   Name           362806 non-null  object\n",
      " 1   Race           362806 non-null  object\n",
      " 2   Age            362806 non-null  object\n",
      " 3   Condition      362806 non-null  object\n",
      " 4   Date           362806 non-null  object\n",
      " 5   Drug           362806 non-null  object\n",
      " 6   DrugId         362806 non-null  int64 \n",
      " 7   EaseofUse      362806 non-null  int64 \n",
      " 8   Effectiveness  362806 non-null  int64 \n",
      " 9   Reviews        362769 non-null  object\n",
      " 10  Satisfaction   362806 non-null  int64 \n",
      " 11  Sex            362806 non-null  object\n",
      " 12  Sides          362806 non-null  object\n",
      " 13  UsefulCount    362806 non-null  int64 \n",
      "dtypes: int64(5), object(9)\n",
      "memory usage: 38.8+ MB\n"
     ]
    }
   ],
   "source": [
    "df.info()"
   ]
  },
  {
   "cell_type": "code",
   "execution_count": 13,
   "id": "3a9319a5",
   "metadata": {},
   "outputs": [
    {
     "data": {
      "text/plain": [
       "Index(['Name', 'Race', 'Age', 'Condition', 'Date', 'Drug', 'DrugId',\n",
       "       'EaseofUse', 'Effectiveness', 'Reviews', 'Satisfaction', 'Sex', 'Sides',\n",
       "       'UsefulCount'],\n",
       "      dtype='object')"
      ]
     },
     "execution_count": 13,
     "metadata": {},
     "output_type": "execute_result"
    }
   ],
   "source": [
    "df.columns"
   ]
  },
  {
   "cell_type": "code",
   "execution_count": 14,
   "id": "3d35268e",
   "metadata": {},
   "outputs": [
    {
     "data": {
      "text/plain": [
       "Name               3323\n",
       "Race                  4\n",
       "Age                  12\n",
       "Condition          1806\n",
       "Date               4524\n",
       "Drug               7093\n",
       "DrugId             6572\n",
       "EaseofUse             7\n",
       "Effectiveness         7\n",
       "Reviews          250167\n",
       "Satisfaction          7\n",
       "Sex                   3\n",
       "Sides              1651\n",
       "UsefulCount         148\n",
       "dtype: int64"
      ]
     },
     "execution_count": 14,
     "metadata": {},
     "output_type": "execute_result"
    }
   ],
   "source": [
    "df.nunique()"
   ]
  },
  {
   "cell_type": "markdown",
   "id": "532101ed",
   "metadata": {},
   "source": [
    "## EDA "
   ]
  },
  {
   "cell_type": "markdown",
   "id": "2c41d3d3",
   "metadata": {},
   "source": [
    "#### Top 20 drugs based on number of users"
   ]
  },
  {
   "cell_type": "code",
   "execution_count": 15,
   "id": "ca108423",
   "metadata": {},
   "outputs": [
    {
     "data": {
      "image/png": "[encoded data removed]",
      "text/plain": [
       "<Figure size 640x480 with 1 Axes>"
      ]
     },
     "metadata": {},
     "output_type": "display_data"
    }
   ],
   "source": [
    "data_= df['Drug'].value_counts().head(20).reset_index()\n",
    "data_.columns = ['Drug', 'Name']\n",
    "sns.barplot(data=data_, x = 'Drug', y = 'Name')\n",
    "plt.suptitle(\"Top 20 Drugs\")\n",
    "plt.xticks(rotation=90,fontsize=10)\n",
    "plt.show()"
   ]
  },
  {
   "cell_type": "markdown",
   "id": "c040a910",
   "metadata": {},
   "source": [
    "Cymbalta tops the list followed by Lisinopril. It is to be noted that all the 20 drugs has been used by more than atleast 2000 people "
   ]
  },
  {
   "cell_type": "markdown",
   "id": "a3c8f4b3",
   "metadata": {},
   "source": [
    "#### Top 20 conditions"
   ]
  },
  {
   "cell_type": "code",
   "execution_count": 16,
   "id": "f5c1a4f4",
   "metadata": {},
   "outputs": [
    {
     "data": {
      "text/plain": [
       "Text(0, 0.5, 'Users')"
      ]
     },
     "execution_count": 16,
     "metadata": {},
     "output_type": "execute_result"
    },
    {
     "data": {
      "image/png": "[encoded data removed]",
      "text/plain": [
       "<Figure size 800x800 with 1 Axes>"
      ]
     },
     "metadata": {},
     "output_type": "display_data"
    }
   ],
   "source": [
    "df['Condition'].value_counts().nlargest(20).plot(kind='bar',figsize=(8,8))\n",
    "plt.suptitle(\"Top 20 Conditions\")\n",
    "plt.xlabel('Conditions')\n",
    "plt.ylabel('Users')"
   ]
  },
  {
   "cell_type": "markdown",
   "id": "a0b35444",
   "metadata": {},
   "source": [
    "As much as 50,000 users have reported other conditions followed by Pain topped the list with more than 25000 people reporting it."
   ]
  },
  {
   "cell_type": "markdown",
   "id": "70012d6e",
   "metadata": {},
   "source": [
    "#### Users by gender"
   ]
  },
  {
   "cell_type": "markdown",
   "id": "6c59eff3",
   "metadata": {},
   "source": [
    "### A drug named cymbalta with DrugId 91491 is selected in building a classification model to determine side effects"
   ]
  },
  {
   "cell_type": "code",
   "execution_count": 19,
   "id": "163a92c7",
   "metadata": {},
   "outputs": [],
   "source": [
    "df2 = df[df.Drug=='cymbalta']"
   ]
  },
  {
   "cell_type": "code",
   "execution_count": 20,
   "id": "dbe67406",
   "metadata": {},
   "outputs": [
    {
     "data": {
      "text/html": [
       "<div>\n",
       "<style scoped>\n",
       "    .dataframe tbody tr th:only-of-type {\n",
       "        vertical-align: middle;\n",
       "    }\n",
       "\n",
       "    .dataframe tbody tr th {\n",
       "        vertical-align: top;\n",
       "    }\n",
       "\n",
       "    .dataframe thead th {\n",
       "        text-align: right;\n",
       "    }\n",
       "</style>\n",
       "<table border=\"1\" class=\"dataframe\">\n",
       "  <thead>\n",
       "    <tr style=\"text-align: right;\">\n",
       "      <th></th>\n",
       "      <th>Name</th>\n",
       "      <th>Race</th>\n",
       "      <th>Age</th>\n",
       "      <th>Condition</th>\n",
       "      <th>Date</th>\n",
       "      <th>Drug</th>\n",
       "      <th>DrugId</th>\n",
       "      <th>EaseofUse</th>\n",
       "      <th>Effectiveness</th>\n",
       "      <th>Reviews</th>\n",
       "      <th>Satisfaction</th>\n",
       "      <th>Sex</th>\n",
       "      <th>Sides</th>\n",
       "      <th>UsefulCount</th>\n",
       "    </tr>\n",
       "  </thead>\n",
       "  <tbody>\n",
       "    <tr>\n",
       "      <th>314212</th>\n",
       "      <td>Agnus</td>\n",
       "      <td>Black</td>\n",
       "      <td></td>\n",
       "      <td>Major Depressive Disorder</td>\n",
       "      <td>2/29/2020</td>\n",
       "      <td>cymbalta</td>\n",
       "      <td>91491</td>\n",
       "      <td>5</td>\n",
       "      <td>5</td>\n",
       "      <td>No Script or health Insurance needed to place ...</td>\n",
       "      <td>5</td>\n",
       "      <td></td>\n",
       "      <td>Nausea ,  dry mouth ,  constipation , loss of ...</td>\n",
       "      <td>12</td>\n",
       "    </tr>\n",
       "    <tr>\n",
       "      <th>314216</th>\n",
       "      <td>Linh</td>\n",
       "      <td>Black</td>\n",
       "      <td>45-54</td>\n",
       "      <td>Repeated Episodes of Anxiety</td>\n",
       "      <td>1/13/2020</td>\n",
       "      <td>cymbalta</td>\n",
       "      <td>91491</td>\n",
       "      <td>3</td>\n",
       "      <td>1</td>\n",
       "      <td>I was prescribed Cymbalta for anxiety and star...</td>\n",
       "      <td>1</td>\n",
       "      <td>Male</td>\n",
       "      <td>Nausea ,  dry mouth ,  constipation , loss of ...</td>\n",
       "      <td>0</td>\n",
       "    </tr>\n",
       "    <tr>\n",
       "      <th>314223</th>\n",
       "      <td>Kirstie</td>\n",
       "      <td>Black</td>\n",
       "      <td>45-54</td>\n",
       "      <td>Anxiousness associated with Depression</td>\n",
       "      <td>1/4/2020</td>\n",
       "      <td>cymbalta</td>\n",
       "      <td>91491</td>\n",
       "      <td>5</td>\n",
       "      <td>5</td>\n",
       "      <td>Switched from Effexor to this medicine after 1...</td>\n",
       "      <td>5</td>\n",
       "      <td></td>\n",
       "      <td>Nausea ,  dry mouth ,  constipation , loss of ...</td>\n",
       "      <td>0</td>\n",
       "    </tr>\n",
       "    <tr>\n",
       "      <th>314235</th>\n",
       "      <td>Delaine</td>\n",
       "      <td>Hispanic</td>\n",
       "      <td>35-44</td>\n",
       "      <td>Anxiousness associated with Depression</td>\n",
       "      <td>12/6/2019</td>\n",
       "      <td>cymbalta</td>\n",
       "      <td>91491</td>\n",
       "      <td>3</td>\n",
       "      <td>3</td>\n",
       "      <td>Bipolar I with a neck fusion. Pdoc prescribed ...</td>\n",
       "      <td>2</td>\n",
       "      <td>Female</td>\n",
       "      <td>Nausea ,  dry mouth ,  constipation , loss of ...</td>\n",
       "      <td>0</td>\n",
       "    </tr>\n",
       "    <tr>\n",
       "      <th>314246</th>\n",
       "      <td>Nakesha</td>\n",
       "      <td>White</td>\n",
       "      <td>55-64</td>\n",
       "      <td>Chronic Muscle or Bone Pain</td>\n",
       "      <td>11/20/2019</td>\n",
       "      <td>cymbalta</td>\n",
       "      <td>91491</td>\n",
       "      <td>2</td>\n",
       "      <td>2</td>\n",
       "      <td>I have depression, anxiety, Fibro, severe musc...</td>\n",
       "      <td>2</td>\n",
       "      <td></td>\n",
       "      <td>Nausea ,  dry mouth ,  constipation , loss of ...</td>\n",
       "      <td>1</td>\n",
       "    </tr>\n",
       "    <tr>\n",
       "      <th>...</th>\n",
       "      <td>...</td>\n",
       "      <td>...</td>\n",
       "      <td>...</td>\n",
       "      <td>...</td>\n",
       "      <td>...</td>\n",
       "      <td>...</td>\n",
       "      <td>...</td>\n",
       "      <td>...</td>\n",
       "      <td>...</td>\n",
       "      <td>...</td>\n",
       "      <td>...</td>\n",
       "      <td>...</td>\n",
       "      <td>...</td>\n",
       "      <td>...</td>\n",
       "    </tr>\n",
       "    <tr>\n",
       "      <th>319081</th>\n",
       "      <td>Ivan</td>\n",
       "      <td>Black</td>\n",
       "      <td>35-44</td>\n",
       "      <td>Major Depressive Disorder</td>\n",
       "      <td>7/18/2008</td>\n",
       "      <td>cymbalta</td>\n",
       "      <td>91491</td>\n",
       "      <td>5</td>\n",
       "      <td>5</td>\n",
       "      <td>taking 60 mg daily for almost 2 yrs, works ver...</td>\n",
       "      <td>5</td>\n",
       "      <td>Female</td>\n",
       "      <td>Nausea ,  dry mouth ,  constipation , loss of ...</td>\n",
       "      <td>6</td>\n",
       "    </tr>\n",
       "    <tr>\n",
       "      <th>319082</th>\n",
       "      <td>Neely</td>\n",
       "      <td>White</td>\n",
       "      <td>35-44</td>\n",
       "      <td>Major Depressive Disorder</td>\n",
       "      <td>7/17/2008</td>\n",
       "      <td>cymbalta</td>\n",
       "      <td>91491</td>\n",
       "      <td>5</td>\n",
       "      <td>3</td>\n",
       "      <td>Do Not stop taking this drug without consultin...</td>\n",
       "      <td>2</td>\n",
       "      <td>Female</td>\n",
       "      <td>Nausea ,  dry mouth ,  constipation , loss of ...</td>\n",
       "      <td>9</td>\n",
       "    </tr>\n",
       "    <tr>\n",
       "      <th>319083</th>\n",
       "      <td>Gayle</td>\n",
       "      <td>White</td>\n",
       "      <td>25-34</td>\n",
       "      <td>Neuropathic Pain</td>\n",
       "      <td>7/17/2008</td>\n",
       "      <td>cymbalta</td>\n",
       "      <td>91491</td>\n",
       "      <td>4</td>\n",
       "      <td>4</td>\n",
       "      <td></td>\n",
       "      <td>4</td>\n",
       "      <td>Female</td>\n",
       "      <td>Nausea ,  dry mouth ,  constipation , loss of ...</td>\n",
       "      <td>2</td>\n",
       "    </tr>\n",
       "    <tr>\n",
       "      <th>319084</th>\n",
       "      <td>Rich</td>\n",
       "      <td>Black</td>\n",
       "      <td>55-64</td>\n",
       "      <td>Major Depressive Disorder</td>\n",
       "      <td>7/17/2008</td>\n",
       "      <td>cymbalta</td>\n",
       "      <td>91491</td>\n",
       "      <td>4</td>\n",
       "      <td>4</td>\n",
       "      <td>I started out on 30, then 60, then 90 mg of Cy...</td>\n",
       "      <td>3</td>\n",
       "      <td>Female</td>\n",
       "      <td>Nausea ,  dry mouth ,  constipation , loss of ...</td>\n",
       "      <td>6</td>\n",
       "    </tr>\n",
       "    <tr>\n",
       "      <th>319085</th>\n",
       "      <td>Kimber</td>\n",
       "      <td>Hispanic</td>\n",
       "      <td>25-34</td>\n",
       "      <td>Repeated Episodes of Anxiety</td>\n",
       "      <td>7/16/2008</td>\n",
       "      <td>cymbalta</td>\n",
       "      <td>91491</td>\n",
       "      <td>5</td>\n",
       "      <td>4</td>\n",
       "      <td>On 60mg then 30mg. Had trouble sleeping was ir...</td>\n",
       "      <td>1</td>\n",
       "      <td>Female</td>\n",
       "      <td>Nausea ,  dry mouth ,  constipation , loss of ...</td>\n",
       "      <td>7</td>\n",
       "    </tr>\n",
       "  </tbody>\n",
       "</table>\n",
       "<p>4648 rows × 14 columns</p>\n",
       "</div>"
      ],
      "text/plain": [
       "           Name      Race    Age                               Condition  \\\n",
       "314212    Agnus     Black                      Major Depressive Disorder   \n",
       "314216     Linh     Black  45-54            Repeated Episodes of Anxiety   \n",
       "314223  Kirstie     Black  45-54  Anxiousness associated with Depression   \n",
       "314235  Delaine  Hispanic  35-44  Anxiousness associated with Depression   \n",
       "314246  Nakesha     White  55-64             Chronic Muscle or Bone Pain   \n",
       "...         ...       ...    ...                                     ...   \n",
       "319081     Ivan     Black  35-44               Major Depressive Disorder   \n",
       "319082    Neely     White  35-44               Major Depressive Disorder   \n",
       "319083    Gayle     White  25-34                        Neuropathic Pain   \n",
       "319084     Rich     Black  55-64               Major Depressive Disorder   \n",
       "319085   Kimber  Hispanic  25-34            Repeated Episodes of Anxiety   \n",
       "\n",
       "              Date      Drug  DrugId  EaseofUse  Effectiveness  \\\n",
       "314212   2/29/2020  cymbalta   91491          5              5   \n",
       "314216   1/13/2020  cymbalta   91491          3              1   \n",
       "314223    1/4/2020  cymbalta   91491          5              5   \n",
       "314235   12/6/2019  cymbalta   91491          3              3   \n",
       "314246  11/20/2019  cymbalta   91491          2              2   \n",
       "...            ...       ...     ...        ...            ...   \n",
       "319081   7/18/2008  cymbalta   91491          5              5   \n",
       "319082   7/17/2008  cymbalta   91491          5              3   \n",
       "319083   7/17/2008  cymbalta   91491          4              4   \n",
       "319084   7/17/2008  cymbalta   91491          4              4   \n",
       "319085   7/16/2008  cymbalta   91491          5              4   \n",
       "\n",
       "                                                  Reviews  Satisfaction  \\\n",
       "314212  No Script or health Insurance needed to place ...             5   \n",
       "314216  I was prescribed Cymbalta for anxiety and star...             1   \n",
       "314223  Switched from Effexor to this medicine after 1...             5   \n",
       "314235  Bipolar I with a neck fusion. Pdoc prescribed ...             2   \n",
       "314246  I have depression, anxiety, Fibro, severe musc...             2   \n",
       "...                                                   ...           ...   \n",
       "319081  taking 60 mg daily for almost 2 yrs, works ver...             5   \n",
       "319082  Do Not stop taking this drug without consultin...             2   \n",
       "319083                                                                4   \n",
       "319084  I started out on 30, then 60, then 90 mg of Cy...             3   \n",
       "319085  On 60mg then 30mg. Had trouble sleeping was ir...             1   \n",
       "\n",
       "           Sex                                              Sides  UsefulCount  \n",
       "314212          Nausea ,  dry mouth ,  constipation , loss of ...           12  \n",
       "314216    Male  Nausea ,  dry mouth ,  constipation , loss of ...            0  \n",
       "314223          Nausea ,  dry mouth ,  constipation , loss of ...            0  \n",
       "314235  Female  Nausea ,  dry mouth ,  constipation , loss of ...            0  \n",
       "314246          Nausea ,  dry mouth ,  constipation , loss of ...            1  \n",
       "...        ...                                                ...          ...  \n",
       "319081  Female  Nausea ,  dry mouth ,  constipation , loss of ...            6  \n",
       "319082  Female  Nausea ,  dry mouth ,  constipation , loss of ...            9  \n",
       "319083  Female  Nausea ,  dry mouth ,  constipation , loss of ...            2  \n",
       "319084  Female  Nausea ,  dry mouth ,  constipation , loss of ...            6  \n",
       "319085  Female  Nausea ,  dry mouth ,  constipation , loss of ...            7  \n",
       "\n",
       "[4648 rows x 14 columns]"
      ]
     },
     "execution_count": 20,
     "metadata": {},
     "output_type": "execute_result"
    }
   ],
   "source": [
    "df2"
   ]
  },
  {
   "cell_type": "code",
   "execution_count": 21,
   "id": "2eaa6c1e",
   "metadata": {},
   "outputs": [
    {
     "data": {
      "text/plain": [
       "(4648, 14)"
      ]
     },
     "execution_count": 21,
     "metadata": {},
     "output_type": "execute_result"
    }
   ],
   "source": [
    "df2.shape"
   ]
  },
  {
   "cell_type": "code",
   "execution_count": 22,
   "id": "c49a634b",
   "metadata": {},
   "outputs": [
    {
     "data": {
      "text/plain": [
       "Name             2382\n",
       "Race                4\n",
       "Age                11\n",
       "Condition           8\n",
       "Date             2189\n",
       "Drug                1\n",
       "DrugId              1\n",
       "EaseofUse           5\n",
       "Effectiveness       5\n",
       "Reviews          4141\n",
       "Satisfaction        5\n",
       "Sex                 3\n",
       "Sides               1\n",
       "UsefulCount        69\n",
       "dtype: int64"
      ]
     },
     "execution_count": 22,
     "metadata": {},
     "output_type": "execute_result"
    }
   ],
   "source": [
    "df2.nunique()"
   ]
  },
  {
   "cell_type": "code",
   "execution_count": 23,
   "id": "5e7d8950",
   "metadata": {},
   "outputs": [
    {
     "data": {
      "text/plain": [
       "Name             0\n",
       "Race             0\n",
       "Age              0\n",
       "Condition        0\n",
       "Date             0\n",
       "Drug             0\n",
       "DrugId           0\n",
       "EaseofUse        0\n",
       "Effectiveness    0\n",
       "Reviews          0\n",
       "Satisfaction     0\n",
       "Sex              0\n",
       "Sides            0\n",
       "UsefulCount      0\n",
       "dtype: int64"
      ]
     },
     "execution_count": 23,
     "metadata": {},
     "output_type": "execute_result"
    }
   ],
   "source": [
    "df2.isna().sum()"
   ]
  },
  {
   "cell_type": "code",
   "execution_count": 24,
   "id": "ab2b2d89",
   "metadata": {},
   "outputs": [
    {
     "data": {
      "text/plain": [
       "Name               0\n",
       "Race               0\n",
       "Age              118\n",
       "Condition          0\n",
       "Date               0\n",
       "Drug               0\n",
       "DrugId             0\n",
       "EaseofUse          0\n",
       "Effectiveness      0\n",
       "Reviews          502\n",
       "Satisfaction       0\n",
       "Sex              197\n",
       "Sides              0\n",
       "UsefulCount        0\n",
       "dtype: int64"
      ]
     },
     "execution_count": 24,
     "metadata": {},
     "output_type": "execute_result"
    }
   ],
   "source": [
    "# Handling instances with whitespaces\n",
    "for i in df2:\n",
    "    df2[i]=np.where(df2[i]==\" \",np.NAN,df2[i])\n",
    "    \n",
    "df2.isna().sum()"
   ]
  },
  {
   "cell_type": "code",
   "execution_count": 25,
   "id": "85c85f30",
   "metadata": {},
   "outputs": [
    {
     "data": {
      "text/plain": [
       "Name             0\n",
       "Race             0\n",
       "Age              0\n",
       "Condition        0\n",
       "Date             0\n",
       "Drug             0\n",
       "DrugId           0\n",
       "EaseofUse        0\n",
       "Effectiveness    0\n",
       "Reviews          0\n",
       "Satisfaction     0\n",
       "Sex              0\n",
       "Sides            0\n",
       "UsefulCount      0\n",
       "dtype: int64"
      ]
     },
     "execution_count": 25,
     "metadata": {},
     "output_type": "execute_result"
    }
   ],
   "source": [
    "df2.dropna(axis=0, inplace = True)\n",
    "df2.isna().sum()"
   ]
  },
  {
   "cell_type": "code",
   "execution_count": 26,
   "id": "964e3104",
   "metadata": {},
   "outputs": [
    {
     "data": {
      "text/plain": [
       "Name             0\n",
       "Race             0\n",
       "Age              0\n",
       "Condition        0\n",
       "Date             0\n",
       "Drug             0\n",
       "DrugId           0\n",
       "EaseofUse        0\n",
       "Effectiveness    0\n",
       "Reviews          0\n",
       "Satisfaction     0\n",
       "Sex              0\n",
       "Sides            0\n",
       "UsefulCount      0\n",
       "dtype: int64"
      ]
     },
     "execution_count": 26,
     "metadata": {},
     "output_type": "execute_result"
    }
   ],
   "source": [
    "# Handling instances with double whitespaces\n",
    "for i in df2:\n",
    "    df2[i]=np.where(df2[i]==\"  \",np.NAN,df2[i])\n",
    "    \n",
    "df2.isna().sum()"
   ]
  },
  {
   "cell_type": "markdown",
   "id": "3a587a1f",
   "metadata": {},
   "source": [
    "### Checking each column value"
   ]
  },
  {
   "cell_type": "markdown",
   "id": "bcbbdb53",
   "metadata": {},
   "source": [
    "### Date"
   ]
  },
  {
   "cell_type": "code",
   "execution_count": 27,
   "id": "3ac663a5",
   "metadata": {},
   "outputs": [],
   "source": [
    "df2['Year'] = pd.to_datetime(df2['Date'], errors='coerce').dt.year\n",
    "df2['Month'] = pd.to_datetime(df2['Date'], errors='coerce').dt.month\n",
    "df2['day_of_week'] = pd.to_datetime(df2['Date'], errors='coerce').dt.day_name()"
   ]
  },
  {
   "cell_type": "code",
   "execution_count": 28,
   "id": "70383fb6",
   "metadata": {},
   "outputs": [
    {
     "data": {
      "text/html": [
       "<div>\n",
       "<style scoped>\n",
       "    .dataframe tbody tr th:only-of-type {\n",
       "        vertical-align: middle;\n",
       "    }\n",
       "\n",
       "    .dataframe tbody tr th {\n",
       "        vertical-align: top;\n",
       "    }\n",
       "\n",
       "    .dataframe thead th {\n",
       "        text-align: right;\n",
       "    }\n",
       "</style>\n",
       "<table border=\"1\" class=\"dataframe\">\n",
       "  <thead>\n",
       "    <tr style=\"text-align: right;\">\n",
       "      <th></th>\n",
       "      <th>Name</th>\n",
       "      <th>Race</th>\n",
       "      <th>Age</th>\n",
       "      <th>Condition</th>\n",
       "      <th>Date</th>\n",
       "      <th>Drug</th>\n",
       "      <th>DrugId</th>\n",
       "      <th>EaseofUse</th>\n",
       "      <th>Effectiveness</th>\n",
       "      <th>Reviews</th>\n",
       "      <th>Satisfaction</th>\n",
       "      <th>Sex</th>\n",
       "      <th>Sides</th>\n",
       "      <th>UsefulCount</th>\n",
       "      <th>Year</th>\n",
       "      <th>Month</th>\n",
       "      <th>day_of_week</th>\n",
       "    </tr>\n",
       "  </thead>\n",
       "  <tbody>\n",
       "    <tr>\n",
       "      <th>314216</th>\n",
       "      <td>Linh</td>\n",
       "      <td>Black</td>\n",
       "      <td>45-54</td>\n",
       "      <td>Repeated Episodes of Anxiety</td>\n",
       "      <td>1/13/2020</td>\n",
       "      <td>cymbalta</td>\n",
       "      <td>91491.0</td>\n",
       "      <td>3.0</td>\n",
       "      <td>1.0</td>\n",
       "      <td>I was prescribed Cymbalta for anxiety and star...</td>\n",
       "      <td>1.0</td>\n",
       "      <td>Male</td>\n",
       "      <td>Nausea ,  dry mouth ,  constipation , loss of ...</td>\n",
       "      <td>0.0</td>\n",
       "      <td>2020</td>\n",
       "      <td>1</td>\n",
       "      <td>Monday</td>\n",
       "    </tr>\n",
       "    <tr>\n",
       "      <th>314235</th>\n",
       "      <td>Delaine</td>\n",
       "      <td>Hispanic</td>\n",
       "      <td>35-44</td>\n",
       "      <td>Anxiousness associated with Depression</td>\n",
       "      <td>12/6/2019</td>\n",
       "      <td>cymbalta</td>\n",
       "      <td>91491.0</td>\n",
       "      <td>3.0</td>\n",
       "      <td>3.0</td>\n",
       "      <td>Bipolar I with a neck fusion. Pdoc prescribed ...</td>\n",
       "      <td>2.0</td>\n",
       "      <td>Female</td>\n",
       "      <td>Nausea ,  dry mouth ,  constipation , loss of ...</td>\n",
       "      <td>0.0</td>\n",
       "      <td>2019</td>\n",
       "      <td>12</td>\n",
       "      <td>Friday</td>\n",
       "    </tr>\n",
       "    <tr>\n",
       "      <th>314267</th>\n",
       "      <td>Wade</td>\n",
       "      <td>Black</td>\n",
       "      <td>45-54</td>\n",
       "      <td>Chronic Muscle or Bone Pain</td>\n",
       "      <td>11/9/2019</td>\n",
       "      <td>cymbalta</td>\n",
       "      <td>91491.0</td>\n",
       "      <td>5.0</td>\n",
       "      <td>4.0</td>\n",
       "      <td>I have only had one 30mg and so far i noticed ...</td>\n",
       "      <td>4.0</td>\n",
       "      <td>Female</td>\n",
       "      <td>Nausea ,  dry mouth ,  constipation , loss of ...</td>\n",
       "      <td>0.0</td>\n",
       "      <td>2019</td>\n",
       "      <td>11</td>\n",
       "      <td>Saturday</td>\n",
       "    </tr>\n",
       "    <tr>\n",
       "      <th>314305</th>\n",
       "      <td>Gala</td>\n",
       "      <td>Black</td>\n",
       "      <td>55-64</td>\n",
       "      <td>Chronic Muscle or Bone Pain</td>\n",
       "      <td>9/18/2019</td>\n",
       "      <td>cymbalta</td>\n",
       "      <td>91491.0</td>\n",
       "      <td>5.0</td>\n",
       "      <td>4.0</td>\n",
       "      <td>The biggest problem was impotency from this pi...</td>\n",
       "      <td>4.0</td>\n",
       "      <td>Male</td>\n",
       "      <td>Nausea ,  dry mouth ,  constipation , loss of ...</td>\n",
       "      <td>0.0</td>\n",
       "      <td>2019</td>\n",
       "      <td>9</td>\n",
       "      <td>Wednesday</td>\n",
       "    </tr>\n",
       "    <tr>\n",
       "      <th>314323</th>\n",
       "      <td>Nelson</td>\n",
       "      <td>Black</td>\n",
       "      <td>75 or over</td>\n",
       "      <td>Chronic Muscle or Bone Pain</td>\n",
       "      <td>8/13/2019</td>\n",
       "      <td>cymbalta</td>\n",
       "      <td>91491.0</td>\n",
       "      <td>5.0</td>\n",
       "      <td>5.0</td>\n",
       "      <td>I had extreme fatigue and muscle pain. Felt li...</td>\n",
       "      <td>5.0</td>\n",
       "      <td>Female</td>\n",
       "      <td>Nausea ,  dry mouth ,  constipation , loss of ...</td>\n",
       "      <td>1.0</td>\n",
       "      <td>2019</td>\n",
       "      <td>8</td>\n",
       "      <td>Tuesday</td>\n",
       "    </tr>\n",
       "  </tbody>\n",
       "</table>\n",
       "</div>"
      ],
      "text/plain": [
       "           Name      Race         Age                               Condition  \\\n",
       "314216     Linh     Black       45-54            Repeated Episodes of Anxiety   \n",
       "314235  Delaine  Hispanic       35-44  Anxiousness associated with Depression   \n",
       "314267     Wade     Black       45-54             Chronic Muscle or Bone Pain   \n",
       "314305     Gala     Black       55-64             Chronic Muscle or Bone Pain   \n",
       "314323   Nelson     Black  75 or over             Chronic Muscle or Bone Pain   \n",
       "\n",
       "             Date      Drug   DrugId  EaseofUse  Effectiveness  \\\n",
       "314216  1/13/2020  cymbalta  91491.0        3.0            1.0   \n",
       "314235  12/6/2019  cymbalta  91491.0        3.0            3.0   \n",
       "314267  11/9/2019  cymbalta  91491.0        5.0            4.0   \n",
       "314305  9/18/2019  cymbalta  91491.0        5.0            4.0   \n",
       "314323  8/13/2019  cymbalta  91491.0        5.0            5.0   \n",
       "\n",
       "                                                  Reviews  Satisfaction  \\\n",
       "314216  I was prescribed Cymbalta for anxiety and star...           1.0   \n",
       "314235  Bipolar I with a neck fusion. Pdoc prescribed ...           2.0   \n",
       "314267  I have only had one 30mg and so far i noticed ...           4.0   \n",
       "314305  The biggest problem was impotency from this pi...           4.0   \n",
       "314323  I had extreme fatigue and muscle pain. Felt li...           5.0   \n",
       "\n",
       "           Sex                                              Sides  \\\n",
       "314216    Male  Nausea ,  dry mouth ,  constipation , loss of ...   \n",
       "314235  Female  Nausea ,  dry mouth ,  constipation , loss of ...   \n",
       "314267  Female  Nausea ,  dry mouth ,  constipation , loss of ...   \n",
       "314305    Male  Nausea ,  dry mouth ,  constipation , loss of ...   \n",
       "314323  Female  Nausea ,  dry mouth ,  constipation , loss of ...   \n",
       "\n",
       "        UsefulCount  Year  Month day_of_week  \n",
       "314216          0.0  2020      1      Monday  \n",
       "314235          0.0  2019     12      Friday  \n",
       "314267          0.0  2019     11    Saturday  \n",
       "314305          0.0  2019      9   Wednesday  \n",
       "314323          1.0  2019      8     Tuesday  "
      ]
     },
     "execution_count": 28,
     "metadata": {},
     "output_type": "execute_result"
    }
   ],
   "source": [
    "df2.head(5)"
   ]
  },
  {
   "cell_type": "code",
   "execution_count": 29,
   "id": "5ae70274",
   "metadata": {},
   "outputs": [
    {
     "data": {
      "text/plain": [
       "4.960279428797154"
      ]
     },
     "execution_count": 29,
     "metadata": {},
     "output_type": "execute_result"
    },
    {
     "data": {
      "image/png": "[encoded data removed]",
      "text/plain": [
       "<Figure size 1000x600 with 2 Axes>"
      ]
     },
     "metadata": {},
     "output_type": "display_data"
    }
   ],
   "source": [
    "plt.figure(figsize=(10,6))\n",
    "\n",
    "plt.subplot(2,2,1)\n",
    "plt.boxplot(df2[\"UsefulCount\"])\n",
    "plt.title(\" Box Plot\")\n",
    "\n",
    "plt.subplot(2,2,2)\n",
    "plt.hist(df2[\"UsefulCount\"])\n",
    "plt.title(\" Histogram\")\n",
    "df2.UsefulCount.skew()"
   ]
  },
  {
   "cell_type": "code",
   "execution_count": 30,
   "id": "be0c25b9",
   "metadata": {},
   "outputs": [],
   "source": [
    "from sklearn.preprocessing import MinMaxScaler\n",
    "from sklearn.preprocessing import PowerTransformer"
   ]
  },
  {
   "cell_type": "code",
   "execution_count": 31,
   "id": "30e4e29c",
   "metadata": {},
   "outputs": [
    {
     "data": {
      "text/plain": [
       "0.2111201584632865"
      ]
     },
     "execution_count": 31,
     "metadata": {},
     "output_type": "execute_result"
    },
    {
     "data": {
      "image/png": "[encoded data removed]",
      "text/plain": [
       "<Figure size 1000x600 with 2 Axes>"
      ]
     },
     "metadata": {},
     "output_type": "display_data"
    }
   ],
   "source": [
    "data_Usefulcount = pd.DataFrame(df2['UsefulCount'])\n",
    "\n",
    "scaler = MinMaxScaler(feature_range=(1, 2))\n",
    "power = PowerTransformer(method='box-cox')\n",
    "pipeline = Pipeline(steps=[('s', scaler),('p', power)])\n",
    "data_Usefulcount1 = pipeline.fit_transform(data_Usefulcount)\n",
    "\n",
    "plt.figure(figsize=(10,6))\n",
    "\n",
    "plt.subplot(2,2,1)\n",
    "plt.boxplot(data_Usefulcount1)\n",
    "plt.title(\" Box Plot\")\n",
    "\n",
    "plt.subplot(2,2,2)\n",
    "plt.hist(data_Usefulcount1)\n",
    "plt.title(\" Histogram\")\n",
    "\n",
    "df2['UsefulCount_boxcox'] = data_Usefulcount1\n",
    "df2['UsefulCount_boxcox'].skew()"
   ]
  },
  {
   "cell_type": "code",
   "execution_count": 32,
   "id": "2ddf97dc",
   "metadata": {},
   "outputs": [
    {
     "data": {
      "text/plain": [
       "-1.2543604666075072"
      ]
     },
     "execution_count": 32,
     "metadata": {},
     "output_type": "execute_result"
    },
    {
     "data": {
      "image/png": "[encoded data removed]",
      "text/plain": [
       "<Figure size 1000x600 with 2 Axes>"
      ]
     },
     "metadata": {},
     "output_type": "display_data"
    }
   ],
   "source": [
    "plt.figure(figsize=(10,6))\n",
    "\n",
    "plt.subplot(2,2,1)\n",
    "plt.boxplot(df2[\"EaseofUse\"])\n",
    "plt.title(\" Box Plot\")\n",
    "\n",
    "plt.subplot(2,2,2)\n",
    "plt.hist(df2[\"EaseofUse\"])\n",
    "plt.title(\" Histogram\")\n",
    "df2.EaseofUse.skew()"
   ]
  },
  {
   "cell_type": "code",
   "execution_count": 33,
   "id": "c0927f06",
   "metadata": {},
   "outputs": [
    {
     "data": {
      "text/plain": [
       "-0.5971279022430935"
      ]
     },
     "execution_count": 33,
     "metadata": {},
     "output_type": "execute_result"
    },
    {
     "data": {
      "image/png": "[encoded data removed]",
      "text/plain": [
       "<Figure size 1000x600 with 2 Axes>"
      ]
     },
     "metadata": {},
     "output_type": "display_data"
    }
   ],
   "source": [
    "scaler = MinMaxScaler(feature_range=(1, 2))\n",
    "power = PowerTransformer(method='box-cox')\n",
    "pipeline = Pipeline(steps=[('s', scaler),('p', power)])\n",
    "\n",
    "data_EaseofUse = pd.DataFrame(df2['EaseofUse'])\n",
    "data_EaseofUse1 = pipeline.fit_transform(data_EaseofUse)\n",
    "\n",
    "plt.figure(figsize=(10,6))\n",
    "\n",
    "plt.subplot(2,2,1)\n",
    "plt.boxplot(data_EaseofUse1)\n",
    "plt.title(\" Box Plot\")\n",
    "\n",
    "plt.subplot(2,2,2)\n",
    "plt.hist(data_EaseofUse1)\n",
    "plt.title(\" Histogram\")\n",
    "\n",
    "df2['EaseofUse_boxcox'] = data_EaseofUse1\n",
    "df2.EaseofUse_boxcox.skew()"
   ]
  },
  {
   "cell_type": "code",
   "execution_count": 34,
   "id": "02db2d4d",
   "metadata": {},
   "outputs": [
    {
     "data": {
      "text/plain": [
       "0.013023655447446417"
      ]
     },
     "execution_count": 34,
     "metadata": {},
     "output_type": "execute_result"
    },
    {
     "data": {
      "image/png": "[encoded data removed]",
      "text/plain": [
       "<Figure size 1000x600 with 2 Axes>"
      ]
     },
     "metadata": {},
     "output_type": "display_data"
    }
   ],
   "source": [
    "plt.figure(figsize=(10,6))\n",
    "\n",
    "plt.subplot(2,2,1)\n",
    "plt.boxplot(df2[\"Satisfaction\"])\n",
    "plt.title(\" Box Plot\")\n",
    "\n",
    "plt.subplot(2,2,2)\n",
    "plt.hist(df2[\"Satisfaction\"])\n",
    "plt.title(\" Histogram\")\n",
    "df2.Satisfaction.skew()"
   ]
  },
  {
   "cell_type": "code",
   "execution_count": 35,
   "id": "5bce8024",
   "metadata": {},
   "outputs": [
    {
     "data": {
      "text/plain": [
       "-0.3690957854279425"
      ]
     },
     "execution_count": 35,
     "metadata": {},
     "output_type": "execute_result"
    },
    {
     "data": {
      "image/png": "[encoded data removed]",
      "text/plain": [
       "<Figure size 1000x600 with 2 Axes>"
      ]
     },
     "metadata": {},
     "output_type": "display_data"
    }
   ],
   "source": [
    "plt.figure(figsize=(10,6))\n",
    "\n",
    "plt.subplot(2,2,1)\n",
    "plt.boxplot(df2[\"Effectiveness\"])\n",
    "plt.title(\" Box Plot\")\n",
    "\n",
    "plt.subplot(2,2,2)\n",
    "plt.hist(df2[\"Effectiveness\"])\n",
    "plt.title(\" Histogram\")\n",
    "df2.Effectiveness.skew()"
   ]
  },
  {
   "cell_type": "code",
   "execution_count": 36,
   "id": "903e8a47",
   "metadata": {},
   "outputs": [],
   "source": [
    "# new feature creation: Side effect \n",
    "mapping = {1: 5, 2: 4, 3: 3, 4: 2, 5: 1}\n",
    "df2['Sideeffect'] = df2['Satisfaction'].map(mapping)\n",
    "# df2.loc[df2['Satisfaction'] == 1, 'Sideeffect'] = df2.loc[df2['Satisfaction'] == 1,5, 'Sideeffect']"
   ]
  },
  {
   "cell_type": "code",
   "execution_count": 37,
   "id": "5c4bd475",
   "metadata": {},
   "outputs": [
    {
     "data": {
      "text/plain": [
       "Index(['Name', 'Race', 'Age', 'Condition', 'Date', 'Drug', 'DrugId',\n",
       "       'EaseofUse', 'Effectiveness', 'Reviews', 'Satisfaction', 'Sex', 'Sides',\n",
       "       'UsefulCount', 'Year', 'Month', 'day_of_week', 'UsefulCount_boxcox',\n",
       "       'EaseofUse_boxcox', 'Sideeffect'],\n",
       "      dtype='object')"
      ]
     },
     "execution_count": 37,
     "metadata": {},
     "output_type": "execute_result"
    }
   ],
   "source": [
    "df2.columns"
   ]
  },
  {
   "cell_type": "markdown",
   "id": "fa39c6d3",
   "metadata": {},
   "source": [
    "### EDA on Cymbalta "
   ]
  },
  {
   "cell_type": "code",
   "execution_count": 38,
   "id": "181c7452",
   "metadata": {},
   "outputs": [
    {
     "data": {
      "image/png": "[encoded data removed]",
      "text/plain": [
       "<Figure size 400x400 with 1 Axes>"
      ]
     },
     "metadata": {},
     "output_type": "display_data"
    }
   ],
   "source": [
    "plt.figure(figsize = (4,4))\n",
    "s=sns.countplot(x='Sex', data=df2)\n",
    "plt.title('Users by Gender', fontsize=15)\n",
    "plt.xlabel('Sex')\n",
    "plt.ylabel('Count') \n",
    "plt.show()"
   ]
  },
  {
   "cell_type": "markdown",
   "id": "75446aa6",
   "metadata": {},
   "source": [
    "Female users are predominant"
   ]
  },
  {
   "cell_type": "code",
   "execution_count": 39,
   "id": "c6122f4b",
   "metadata": {},
   "outputs": [
    {
     "data": {
      "text/plain": [
       "Text(0, 0.5, 'Count')"
      ]
     },
     "execution_count": 39,
     "metadata": {},
     "output_type": "execute_result"
    },
    {
     "data": {
      "image/png": "[encoded data removed]",
      "text/plain": [
       "<Figure size 640x480 with 1 Axes>"
      ]
     },
     "metadata": {},
     "output_type": "display_data"
    }
   ],
   "source": [
    "df2['Race'].value_counts().plot(kind='bar')\n",
    "plt.title(\"Race\", fontsize = 10)\n",
    "plt.xlabel(\"Race\", fontsize = 10)\n",
    "plt.ylabel(\"Count\", fontsize = 10)"
   ]
  },
  {
   "cell_type": "code",
   "execution_count": 40,
   "id": "4e3fdec1",
   "metadata": {},
   "outputs": [
    {
     "data": {
      "text/plain": [
       "Text(0.5, 1.0, 'Users by Race and Gender')"
      ]
     },
     "execution_count": 40,
     "metadata": {},
     "output_type": "execute_result"
    },
    {
     "data": {
      "image/png": "[encoded data removed]",
      "text/plain": [
       "<Figure size 640x480 with 1 Axes>"
      ]
     },
     "metadata": {},
     "output_type": "display_data"
    }
   ],
   "source": [
    "sns.countplot(x='Race',hue='Sex',data=df2)\n",
    "plt.title(\"Users by Race and Gender\", fontsize = 10)"
   ]
  },
  {
   "cell_type": "markdown",
   "id": "dbd6a2ef",
   "metadata": {},
   "source": [
    "In each race, female gender is the predominant user"
   ]
  },
  {
   "cell_type": "code",
   "execution_count": 41,
   "id": "ff6056e8",
   "metadata": {},
   "outputs": [
    {
     "data": {
      "text/plain": [
       "Text(0.5, 1.0, 'Users by Age and Gender')"
      ]
     },
     "execution_count": 41,
     "metadata": {},
     "output_type": "execute_result"
    },
    {
     "data": {
      "image/png": "[encoded data removed]",
      "text/plain": [
       "<Figure size 1000x600 with 1 Axes>"
      ]
     },
     "metadata": {},
     "output_type": "display_data"
    }
   ],
   "source": [
    "plt.figure(figsize=(10, 6))\n",
    "sns.countplot(x='Age',hue='Sex',data=df2)\n",
    "plt.title(\"Users by Age and Gender\", fontsize = 10)"
   ]
  },
  {
   "cell_type": "code",
   "execution_count": 42,
   "id": "5b476fc3",
   "metadata": {},
   "outputs": [
    {
     "data": {
      "text/plain": [
       "Text(0, 0.5, 'Count of Reviews')"
      ]
     },
     "execution_count": 42,
     "metadata": {},
     "output_type": "execute_result"
    },
    {
     "data": {
      "image/png": "[encoded data removed]",
      "text/plain": [
       "<Figure size 640x480 with 1 Axes>"
      ]
     },
     "metadata": {},
     "output_type": "display_data"
    }
   ],
   "source": [
    "df2['Year'].value_counts().plot(kind='bar')\n",
    "plt.title(\"Year\", fontsize = 10)\n",
    "plt.xlabel(\"Year\", fontsize = 10)\n",
    "plt.ylabel(\"Count of Reviews\", fontsize = 10)"
   ]
  },
  {
   "cell_type": "markdown",
   "id": "d9cbdb4a",
   "metadata": {},
   "source": [
    "In each year, there is a gradual decrease in user reviews"
   ]
  },
  {
   "cell_type": "code",
   "execution_count": 43,
   "id": "602f395d",
   "metadata": {},
   "outputs": [
    {
     "data": {
      "text/plain": [
       "Text(0, 0.5, 'Count')"
      ]
     },
     "execution_count": 43,
     "metadata": {},
     "output_type": "execute_result"
    },
    {
     "data": {
      "image/png": "[encoded data removed]",
      "text/plain": [
       "<Figure size 640x480 with 1 Axes>"
      ]
     },
     "metadata": {},
     "output_type": "display_data"
    }
   ],
   "source": [
    "df2['Effectiveness'].value_counts().plot(kind='bar')\n",
    "plt.title(\"Effectiveness\", fontsize = 10)\n",
    "plt.xlabel(\"Effectiveness\", fontsize = 10)\n",
    "plt.ylabel(\"Count\", fontsize = 10)"
   ]
  },
  {
   "cell_type": "markdown",
   "id": "deb0a751",
   "metadata": {},
   "source": [
    "The drug is fairly effective with around 1600 users voting a 4 rating to it."
   ]
  },
  {
   "cell_type": "code",
   "execution_count": 44,
   "id": "83faddf3",
   "metadata": {},
   "outputs": [
    {
     "data": {
      "text/plain": [
       "<Figure size 1000x800 with 0 Axes>"
      ]
     },
     "metadata": {},
     "output_type": "display_data"
    },
    {
     "data": {
      "image/png": "[encoded data removed]",
      "text/plain": [
       "<Figure size 1080x600 with 2 Axes>"
      ]
     },
     "metadata": {},
     "output_type": "display_data"
    }
   ],
   "source": [
    "plt.figure(figsize=(10,8))\n",
    "g = sns.catplot(x=\"Effectiveness\",col=\"Sex\",\n",
    "                data=df2, kind=\"count\",\n",
    "                height=6,aspect =.9);"
   ]
  },
  {
   "cell_type": "markdown",
   "id": "1c51ea47",
   "metadata": {},
   "source": [
    "Both the users have given a mixed response"
   ]
  },
  {
   "cell_type": "code",
   "execution_count": 45,
   "id": "64f6d2a0",
   "metadata": {},
   "outputs": [
    {
     "data": {
      "image/png": "[encoded data removed]",
      "text/plain": [
       "<Figure size 600x600 with 1 Axes>"
      ]
     },
     "metadata": {},
     "output_type": "display_data"
    }
   ],
   "source": [
    "plt.figure(figsize=(6,6))\n",
    "df2['Sideeffect'].value_counts().plot.pie(autopct='%1.1f%%')\n",
    "plt.show()"
   ]
  },
  {
   "cell_type": "markdown",
   "id": "ff569454",
   "metadata": {},
   "source": [
    "34.7% users reported extreme sideeffects with 1 being no side effect and 5 being extreme side effect"
   ]
  },
  {
   "cell_type": "code",
   "execution_count": 46,
   "id": "4ebd4fb1",
   "metadata": {},
   "outputs": [
    {
     "data": {
      "text/plain": [
       "<Axes: xlabel='Age', ylabel='count'>"
      ]
     },
     "execution_count": 46,
     "metadata": {},
     "output_type": "execute_result"
    },
    {
     "data": {
      "image/png": "[encoded data removed]",
      "text/plain": [
       "<Figure size 1000x600 with 1 Axes>"
      ]
     },
     "metadata": {},
     "output_type": "display_data"
    }
   ],
   "source": [
    "plt.figure(figsize=(10, 6))\n",
    "sns.countplot(x='Age',hue='Sideeffect',data=df2)"
   ]
  },
  {
   "cell_type": "markdown",
   "id": "3a85d293",
   "metadata": {},
   "source": [
    "45-54 age group has opinionated that they had extreme side effects"
   ]
  },
  {
   "cell_type": "code",
   "execution_count": 47,
   "id": "87c7ef8e",
   "metadata": {},
   "outputs": [
    {
     "data": {
      "text/plain": [
       "<Figure size 2000x1000 with 0 Axes>"
      ]
     },
     "metadata": {},
     "output_type": "display_data"
    },
    {
     "data": {
      "image/png": "[encoded data removed]",
      "text/plain": [
       "<Figure size 1080x600 with 2 Axes>"
      ]
     },
     "metadata": {},
     "output_type": "display_data"
    }
   ],
   "source": [
    "plt.figure(figsize=(20,10))\n",
    "\n",
    "g = sns.catplot(x=\"Sideeffect\",col=\"Sex\",data=df2, kind=\"count\",height=6,aspect =.9);"
   ]
  },
  {
   "cell_type": "markdown",
   "id": "e6fbc2fb",
   "metadata": {},
   "source": [
    "Female users have reported more extreme side effects"
   ]
  },
  {
   "cell_type": "code",
   "execution_count": 48,
   "id": "e114d33e",
   "metadata": {},
   "outputs": [
    {
     "data": {
      "text/plain": [
       "<Axes: xlabel='Race', ylabel='count'>"
      ]
     },
     "execution_count": 48,
     "metadata": {},
     "output_type": "execute_result"
    },
    {
     "data": {
      "image/png": "[encoded data removed]",
      "text/plain": [
       "<Figure size 1000x600 with 1 Axes>"
      ]
     },
     "metadata": {},
     "output_type": "display_data"
    }
   ],
   "source": [
    "plt.figure(figsize=(10, 6))\n",
    "sns.countplot(x='Race',hue='Sideeffect',data=df2)"
   ]
  },
  {
   "cell_type": "markdown",
   "id": "763d2637",
   "metadata": {},
   "source": [
    "White and Hispanic users reported more extreme side effects"
   ]
  },
  {
   "cell_type": "markdown",
   "id": "73830644",
   "metadata": {},
   "source": [
    "## Review"
   ]
  },
  {
   "cell_type": "code",
   "execution_count": 49,
   "id": "98dbdbb7",
   "metadata": {},
   "outputs": [
    {
     "data": {
      "text/plain": [
       "317077              severe mood swings n behavior problems \n",
       "318540    This medicine is a miracle for me.  I am happy...\n",
       "318511    I have always been depressed but have been abl...\n",
       "317287    I felt very uncomfortable on this drug.  I sto...\n",
       "318841    Cymbalta works very well for me, except now th...\n",
       "Name: Reviews, dtype: object"
      ]
     },
     "execution_count": 49,
     "metadata": {},
     "output_type": "execute_result"
    }
   ],
   "source": [
    "df2.Reviews.sample(5)"
   ]
  },
  {
   "cell_type": "markdown",
   "id": "753dac91",
   "metadata": {},
   "source": [
    "Let us define a function to clean the text in the review so as to generate meaningfull output. The plan is to rank the reviews as either positive or negative. But, so as to rank the reviews, we need a more samples than what we have here. So, we will train the algoithm on the complete parent dataset (containing data about all the medicines). The algorithm will get trained on satisfaction and reviews, which means, it will identify which reviews or specifically word consitutes positive review ( satisfaction > 3) and which one consitute negative reviews (satisfaction < 3). Then, the generated model will be used to generate review rank ( 1 for positve and 0 for negative) for us in our dataset. Kindly note, the review rank for entries where satisfaction > 3 is 1 and for satisfaction < 3 is 0. The entries with satisfaction == 3 will be fed to the model to generate review rank values. Finally, our dataset will be complete after this."
   ]
  },
  {
   "cell_type": "markdown",
   "id": "b918e4d2",
   "metadata": {},
   "source": [
    "## Cleaning the Global Review column"
   ]
  },
  {
   "cell_type": "code",
   "execution_count": 50,
   "id": "f2481d92",
   "metadata": {},
   "outputs": [],
   "source": [
    "if data['Reviews'].dtype.kind == \"O\":\n",
    "        data['Reviews'] = data['Reviews'].str.strip()"
   ]
  },
  {
   "cell_type": "code",
   "execution_count": 51,
   "id": "fd991285",
   "metadata": {},
   "outputs": [],
   "source": [
    "data['Reviews']= data['Reviews'].astype(str)"
   ]
  },
  {
   "cell_type": "code",
   "execution_count": 52,
   "id": "8dcca9fd",
   "metadata": {
    "scrolled": false
   },
   "outputs": [
    {
     "name": "stderr",
     "output_type": "stream",
     "text": [
      "[nltk_data] Downloading package stopwords to\n",
      "[nltk_data]     C:\\Users\\HP\\AppData\\Roaming\\nltk_data...\n",
      "[nltk_data]   Package stopwords is already up-to-date!\n"
     ]
    }
   ],
   "source": [
    "import nltk\n",
    "nltk.download('stopwords')\n",
    "\n",
    "\n",
    "\n",
    "nlp = spacy.load(\"en_core_web_sm\", disable=[\"ner\", \"parser\"])\n",
    "STOPWORDS = set(sklearn_stop_words).union(set(stopwords.words(\"english\")))\n",
    "\n",
    "def clean_review(text, STOPWORDS=STOPWORDS, nlp=nlp):\n",
    "    \"\"\"Cleans up text\"\"\"\n",
    "    \n",
    "    def rep_emo(text, placeholder_pos=' happyemoticon ', placeholder_neg=' sademoticon '):\n",
    "        \"\"\"Replace emoticons\"\"\"\n",
    "        # Credit https://github.com/shaheen-syed/Twitter-Sentiment-Analysis/blob/master/helper_functions.py\n",
    "        emoticons_pos = [\":)\", \":-)\", \":p\", \":-p\", \":P\", \":-P\", \":D\",\":-D\", \":]\", \":-]\", \";)\", \";-)\",\n",
    "                         \";p\", \";-p\", \";P\", \";-P\", \";D\", \";-D\", \";]\", \";-]\", \"=)\", \"=-)\", \"<3\"]\n",
    "        emoticons_neg = [\":o\", \":-o\", \":O\", \":-O\", \":(\", \":-(\", \":c\", \":-c\", \":C\", \":-C\", \":[\", \":-[\",\n",
    "                         \":/\", \":-/\", \":\\\\\", \":-\\\\\", \":n\", \":-n\", \":u\", \":-u\", \"=(\", \"=-(\", \":$\", \":-$\"]\n",
    "\n",
    "        for e in emoticons_pos:\n",
    "            text = text.replace(e, placeholder_pos)\n",
    "\n",
    "        for e in emoticons_neg:\n",
    "            text = text.replace(e, placeholder_neg)   \n",
    "        return text\n",
    "\n",
    "    def rep_punct(text):\n",
    "        \"\"\"Replace all punctuation with space\"\"\"\n",
    "        for c in string.punctuation:\n",
    "            text = text.replace(c, \" \")\n",
    "        return text\n",
    "\n",
    "    def rem_stop_num(text):\n",
    "        \"\"\"Remove stop words and anything starting with number\"\"\"\n",
    "        return \" \".join(word for word in text.split() if word not in STOPWORDS and not word[0].isdigit())\n",
    "\n",
    "    def lemmatize(text):\n",
    "        \"\"\"Return lemmas of tokens in text\"\"\"\n",
    "        return \" \".join(tok.lemma_.lower().strip() for tok in nlp(text) if tok.lemma_ != \"-PRON-\")  \n",
    "\n",
    "    return lemmatize(rem_stop_num(rep_punct(rep_emo(text))))\n",
    "\n",
    "mldf = data[[\"Satisfaction\", \"Reviews\"]]\n",
    "mldf[\"Reviews\"] = mldf[\"Reviews\"].apply(clean_review)\n",
    "\n",
    "# remove any rows with new empty strings following the clean-up\n",
    "mldf[\"Reviews\"].replace(\"\", np.nan, inplace=True)\n",
    "mldf.dropna(inplace=True)\n",
    "# adding indexes as \"index\" column for later use to recreate same splits \n",
    "mldf.reset_index(inplace=True)"
   ]
  },
  {
   "cell_type": "markdown",
   "id": "229a1172",
   "metadata": {},
   "source": [
    "Review column is cleaned. A new column satisfaction1 is generated which will help in identifiying postive and negative reviews for algorithm where 0 is negative, 2 is positive and 1 is neutral for satisfaction < 3, > 3 and ==3 respectively. We will omit the neutral reviews."
   ]
  },
  {
   "cell_type": "code",
   "execution_count": 53,
   "id": "90ff87fd",
   "metadata": {},
   "outputs": [],
   "source": [
    "def relabel(x):\n",
    "    return 0 if x < 3 else 1 if x == 3 else 2\n",
    "\n",
    "mldf[\"Satisfaction1\"] = mldf[\"Satisfaction\"].apply(relabel)"
   ]
  },
  {
   "cell_type": "code",
   "execution_count": 54,
   "id": "fb0cae35",
   "metadata": {},
   "outputs": [
    {
     "data": {
      "text/html": [
       "<div>\n",
       "<style scoped>\n",
       "    .dataframe tbody tr th:only-of-type {\n",
       "        vertical-align: middle;\n",
       "    }\n",
       "\n",
       "    .dataframe tbody tr th {\n",
       "        vertical-align: top;\n",
       "    }\n",
       "\n",
       "    .dataframe thead th {\n",
       "        text-align: right;\n",
       "    }\n",
       "</style>\n",
       "<table border=\"1\" class=\"dataframe\">\n",
       "  <thead>\n",
       "    <tr style=\"text-align: right;\">\n",
       "      <th></th>\n",
       "      <th>index</th>\n",
       "      <th>Satisfaction</th>\n",
       "      <th>Reviews</th>\n",
       "      <th>Satisfaction1</th>\n",
       "    </tr>\n",
       "  </thead>\n",
       "  <tbody>\n",
       "    <tr>\n",
       "      <th>0</th>\n",
       "      <td>0</td>\n",
       "      <td>5</td>\n",
       "      <td>i retire physician med i try allergy seasonal ...</td>\n",
       "      <td>2</td>\n",
       "    </tr>\n",
       "    <tr>\n",
       "      <th>1</th>\n",
       "      <td>1</td>\n",
       "      <td>5</td>\n",
       "      <td>clear right throat hurt go away take medicine</td>\n",
       "      <td>2</td>\n",
       "    </tr>\n",
       "    <tr>\n",
       "      <th>2</th>\n",
       "      <td>2</td>\n",
       "      <td>3</td>\n",
       "      <td>ptinr normal</td>\n",
       "      <td>1</td>\n",
       "    </tr>\n",
       "    <tr>\n",
       "      <th>3</th>\n",
       "      <td>3</td>\n",
       "      <td>1</td>\n",
       "      <td>falling and don t realise it</td>\n",
       "      <td>0</td>\n",
       "    </tr>\n",
       "    <tr>\n",
       "      <th>4</th>\n",
       "      <td>4</td>\n",
       "      <td>1</td>\n",
       "      <td>my grandfather prescribe medication coumadin a...</td>\n",
       "      <td>0</td>\n",
       "    </tr>\n",
       "    <tr>\n",
       "      <th>...</th>\n",
       "      <td>...</td>\n",
       "      <td>...</td>\n",
       "      <td>...</td>\n",
       "      <td>...</td>\n",
       "    </tr>\n",
       "    <tr>\n",
       "      <th>320748</th>\n",
       "      <td>362801</td>\n",
       "      <td>5</td>\n",
       "      <td>i take week i stop drug soon think week i weir...</td>\n",
       "      <td>2</td>\n",
       "    </tr>\n",
       "    <tr>\n",
       "      <th>320749</th>\n",
       "      <td>362802</td>\n",
       "      <td>1</td>\n",
       "      <td>my dad strate take chantix month ago fine stop...</td>\n",
       "      <td>0</td>\n",
       "    </tr>\n",
       "    <tr>\n",
       "      <th>320750</th>\n",
       "      <td>362803</td>\n",
       "      <td>2</td>\n",
       "      <td>as long i chantix i smoke terrible stomach ups...</td>\n",
       "      <td>0</td>\n",
       "    </tr>\n",
       "    <tr>\n",
       "      <th>320751</th>\n",
       "      <td>362804</td>\n",
       "      <td>5</td>\n",
       "      <td>start medication oct haven smoke week planning...</td>\n",
       "      <td>2</td>\n",
       "    </tr>\n",
       "    <tr>\n",
       "      <th>320752</th>\n",
       "      <td>362805</td>\n",
       "      <td>5</td>\n",
       "      <td>one year ago i try chantix stop take i nauseou...</td>\n",
       "      <td>2</td>\n",
       "    </tr>\n",
       "  </tbody>\n",
       "</table>\n",
       "<p>320753 rows × 4 columns</p>\n",
       "</div>"
      ],
      "text/plain": [
       "         index  Satisfaction  \\\n",
       "0            0             5   \n",
       "1            1             5   \n",
       "2            2             3   \n",
       "3            3             1   \n",
       "4            4             1   \n",
       "...        ...           ...   \n",
       "320748  362801             5   \n",
       "320749  362802             1   \n",
       "320750  362803             2   \n",
       "320751  362804             5   \n",
       "320752  362805             5   \n",
       "\n",
       "                                                  Reviews  Satisfaction1  \n",
       "0       i retire physician med i try allergy seasonal ...              2  \n",
       "1           clear right throat hurt go away take medicine              2  \n",
       "2                                            ptinr normal              1  \n",
       "3                            falling and don t realise it              0  \n",
       "4       my grandfather prescribe medication coumadin a...              0  \n",
       "...                                                   ...            ...  \n",
       "320748  i take week i stop drug soon think week i weir...              2  \n",
       "320749  my dad strate take chantix month ago fine stop...              0  \n",
       "320750  as long i chantix i smoke terrible stomach ups...              0  \n",
       "320751  start medication oct haven smoke week planning...              2  \n",
       "320752  one year ago i try chantix stop take i nauseou...              2  \n",
       "\n",
       "[320753 rows x 4 columns]"
      ]
     },
     "execution_count": 54,
     "metadata": {},
     "output_type": "execute_result"
    }
   ],
   "source": [
    "mldf"
   ]
  },
  {
   "cell_type": "markdown",
   "id": "085d58dc",
   "metadata": {},
   "source": [
    "### Generating Text Processing Model"
   ]
  },
  {
   "cell_type": "code",
   "execution_count": 55,
   "id": "6130d156",
   "metadata": {},
   "outputs": [],
   "source": [
    "from sklearn.model_selection import train_test_split"
   ]
  },
  {
   "cell_type": "code",
   "execution_count": 56,
   "id": "277f0ba8",
   "metadata": {},
   "outputs": [
    {
     "name": "stdout",
     "output_type": "stream",
     "text": [
      "(240564, 4)\n",
      "(80189, 4)\n"
     ]
    }
   ],
   "source": [
    "train_set, test_set = train_test_split(mldf, test_size=0.25, random_state=0, stratify=mldf[\"Satisfaction1\"])\n",
    "train_index = train_set.index\n",
    "test_index = test_set.index\n",
    "print(train_set.shape)\n",
    "print(test_set.shape)"
   ]
  },
  {
   "cell_type": "code",
   "execution_count": 57,
   "id": "4407fe6b",
   "metadata": {},
   "outputs": [],
   "source": [
    "from sklearn.ensemble import RandomForestClassifier\n",
    "from sklearn.metrics import classification_report, confusion_matrix, accuracy_score"
   ]
  },
  {
   "cell_type": "code",
   "execution_count": 58,
   "id": "2d550240",
   "metadata": {},
   "outputs": [
    {
     "name": "stdout",
     "output_type": "stream",
     "text": [
      "(207859, 4)\n",
      "(69287, 4)\n",
      "\n",
      "Accuracy in train set: 0.99\n",
      "\n",
      "Accuracy in test  set: 0.83\n",
      "\n",
      "              precision    recall  f1-score   support\n",
      "\n",
      "           0       0.83      0.80      0.82     32110\n",
      "           2       0.83      0.86      0.85     37177\n",
      "\n",
      "    accuracy                           0.83     69287\n",
      "   macro avg       0.83      0.83      0.83     69287\n",
      "weighted avg       0.83      0.83      0.83     69287\n",
      "\n",
      "CPU times: total: 16min 37s\n",
      "Wall time: 22min 52s\n"
     ]
    }
   ],
   "source": [
    "%%time\n",
    "train_set = train_set[train_set[\"Satisfaction1\"] != 1]\n",
    "test_set = test_set[test_set[\"Satisfaction1\"] != 1]\n",
    "print(train_set.shape)\n",
    "print(test_set.shape)\n",
    "\n",
    "vectorizer = TfidfVectorizer(max_features=2500, min_df=10, max_df=0.8)\n",
    "X_train = vectorizer.fit_transform(train_set[\"Reviews\"]).toarray()\n",
    "X_test = vectorizer.transform(test_set[\"Reviews\"]).toarray()\n",
    "y_train = train_set[\"Satisfaction1\"].values\n",
    "y_test = test_set[\"Satisfaction1\"].values\n",
    "\n",
    "model = RandomForestClassifier(min_samples_split=6, random_state=0)\n",
    "model.fit(X_train, y_train)\n",
    "\n",
    "acc_train = accuracy_score(y_train, model.predict(X_train))\n",
    "print(f\"\\nAccuracy in train set: {acc_train:.2}\")\n",
    "predictions = model.predict(X_test)\n",
    "acc_test = accuracy_score(y_test, predictions)\n",
    "print(f\"\\nAccuracy in test  set: {acc_test:.2}\\n\")\n",
    "print(classification_report(y_test, predictions))"
   ]
  },
  {
   "cell_type": "markdown",
   "id": "922bccf1",
   "metadata": {},
   "source": [
    "We got an accuracy of 83%.\n",
    "\n",
    "Let us the clean the review specific to our drug"
   ]
  },
  {
   "cell_type": "code",
   "execution_count": 59,
   "id": "11219f05",
   "metadata": {},
   "outputs": [],
   "source": [
    "df2[\"Reviews\"] = df2[\"Reviews\"].apply(clean_review)"
   ]
  },
  {
   "cell_type": "markdown",
   "id": "b6d0b516",
   "metadata": {},
   "source": [
    "Let us the rank the reviews by creating a function for the same"
   ]
  },
  {
   "cell_type": "code",
   "execution_count": 60,
   "id": "3137c941",
   "metadata": {},
   "outputs": [
    {
     "data": {
      "text/plain": [
       "array([0., 1.])"
      ]
     },
     "execution_count": 60,
     "metadata": {},
     "output_type": "execute_result"
    }
   ],
   "source": [
    "def predict_rank(text):\n",
    "    cleaned_text = [clean_review(text)]\n",
    "    padded_text = vectorizer.transform(cleaned_text)\n",
    "    p = model.predict(padded_text)[0]\n",
    "    if (p == 0):\n",
    "        return 0\n",
    "    else :\n",
    "        return 1\n",
    "    \n",
    "def predict_rank1(rank):\n",
    "    if (rank < 3):\n",
    "        return 0\n",
    "    else:\n",
    "        return 1\n",
    "    \n",
    "# predict_rank(\"I loved it\")\n",
    "df2['Reviews_Rank'] = df2['Satisfaction']\n",
    "df2.loc[df2['Satisfaction'] < 3, 'Reviews_Rank'] = df2.loc[df2['Satisfaction'] < 3, 'Reviews_Rank'].apply(predict_rank1)\n",
    "df2.loc[df2['Satisfaction'] > 3, 'Reviews_Rank'] = df2.loc[df2['Satisfaction'] > 3, 'Reviews_Rank'].apply(predict_rank1)\n",
    "df2.loc[df2['Satisfaction'] == 3, 'Reviews_Rank'] = df2.loc[df2['Satisfaction'] == 3, 'Reviews'].apply(predict_rank)\n",
    "df2['Reviews_Rank'].unique()"
   ]
  },
  {
   "cell_type": "markdown",
   "id": "4b1a6a58",
   "metadata": {},
   "source": [
    "Columns Name has unique values so will be dropped. Drug, DrugId, Condition, Date, Easeofuse, usefulcount, sides, Year will be dropped. Race, Sex, Year, Month, Dayofweek will be onehot encoded. Satisfaction will be segregated based on the values as nil, mild, moderate, sever, extreme based on values of 5, 4, 3, 2, 1 respectively. The assumption being that thet satisfaction is a parameter that gets affected by side effects in case of patients."
   ]
  },
  {
   "cell_type": "code",
   "execution_count": 61,
   "id": "fa756abe",
   "metadata": {},
   "outputs": [],
   "source": [
    "df2.drop(['Name','Condition','Date','Drug','DrugId','EaseofUse','Sides','UsefulCount'], axis=1, inplace = True)"
   ]
  },
  {
   "cell_type": "code",
   "execution_count": 62,
   "id": "e8fe3da0",
   "metadata": {},
   "outputs": [
    {
     "data": {
      "text/plain": [
       "Index(['Race', 'Age', 'Effectiveness', 'Reviews', 'Satisfaction', 'Sex',\n",
       "       'Year', 'Month', 'day_of_week', 'UsefulCount_boxcox',\n",
       "       'EaseofUse_boxcox', 'Sideeffect', 'Reviews_Rank'],\n",
       "      dtype='object')"
      ]
     },
     "execution_count": 62,
     "metadata": {},
     "output_type": "execute_result"
    }
   ],
   "source": [
    "df2.Month = df2.Month.astype(str)\n",
    "df2.Year = df2.Year.astype(str)\n",
    "data_encod = df2[['Race', 'Age','Sex','Month','day_of_week']]\n",
    "data_num = df2[['Effectiveness']]\n",
    "df2.columns"
   ]
  },
  {
   "cell_type": "markdown",
   "id": "eb914afe",
   "metadata": {},
   "source": [
    "## One Hot Encoding"
   ]
  },
  {
   "cell_type": "code",
   "execution_count": 63,
   "id": "8abb2507",
   "metadata": {},
   "outputs": [
    {
     "data": {
      "text/html": [
       "<div>\n",
       "<style scoped>\n",
       "    .dataframe tbody tr th:only-of-type {\n",
       "        vertical-align: middle;\n",
       "    }\n",
       "\n",
       "    .dataframe tbody tr th {\n",
       "        vertical-align: top;\n",
       "    }\n",
       "\n",
       "    .dataframe thead th {\n",
       "        text-align: right;\n",
       "    }\n",
       "</style>\n",
       "<table border=\"1\" class=\"dataframe\">\n",
       "  <thead>\n",
       "    <tr style=\"text-align: right;\">\n",
       "      <th></th>\n",
       "      <th>Race_Asian</th>\n",
       "      <th>Race_Black</th>\n",
       "      <th>Race_Hispanic</th>\n",
       "      <th>Race_White</th>\n",
       "      <th>Age_0-2</th>\n",
       "      <th>Age_13-18</th>\n",
       "      <th>Age_19-24</th>\n",
       "      <th>Age_25-34</th>\n",
       "      <th>Age_35-44</th>\n",
       "      <th>Age_45-54</th>\n",
       "      <th>...</th>\n",
       "      <th>Month_7</th>\n",
       "      <th>Month_8</th>\n",
       "      <th>Month_9</th>\n",
       "      <th>day_of_week_Friday</th>\n",
       "      <th>day_of_week_Monday</th>\n",
       "      <th>day_of_week_Saturday</th>\n",
       "      <th>day_of_week_Sunday</th>\n",
       "      <th>day_of_week_Thursday</th>\n",
       "      <th>day_of_week_Tuesday</th>\n",
       "      <th>day_of_week_Wednesday</th>\n",
       "    </tr>\n",
       "  </thead>\n",
       "  <tbody>\n",
       "    <tr>\n",
       "      <th>314216</th>\n",
       "      <td>0</td>\n",
       "      <td>1</td>\n",
       "      <td>0</td>\n",
       "      <td>0</td>\n",
       "      <td>0</td>\n",
       "      <td>0</td>\n",
       "      <td>0</td>\n",
       "      <td>0</td>\n",
       "      <td>0</td>\n",
       "      <td>1</td>\n",
       "      <td>...</td>\n",
       "      <td>0</td>\n",
       "      <td>0</td>\n",
       "      <td>0</td>\n",
       "      <td>0</td>\n",
       "      <td>1</td>\n",
       "      <td>0</td>\n",
       "      <td>0</td>\n",
       "      <td>0</td>\n",
       "      <td>0</td>\n",
       "      <td>0</td>\n",
       "    </tr>\n",
       "    <tr>\n",
       "      <th>314235</th>\n",
       "      <td>0</td>\n",
       "      <td>0</td>\n",
       "      <td>1</td>\n",
       "      <td>0</td>\n",
       "      <td>0</td>\n",
       "      <td>0</td>\n",
       "      <td>0</td>\n",
       "      <td>0</td>\n",
       "      <td>1</td>\n",
       "      <td>0</td>\n",
       "      <td>...</td>\n",
       "      <td>0</td>\n",
       "      <td>0</td>\n",
       "      <td>0</td>\n",
       "      <td>1</td>\n",
       "      <td>0</td>\n",
       "      <td>0</td>\n",
       "      <td>0</td>\n",
       "      <td>0</td>\n",
       "      <td>0</td>\n",
       "      <td>0</td>\n",
       "    </tr>\n",
       "    <tr>\n",
       "      <th>314267</th>\n",
       "      <td>0</td>\n",
       "      <td>1</td>\n",
       "      <td>0</td>\n",
       "      <td>0</td>\n",
       "      <td>0</td>\n",
       "      <td>0</td>\n",
       "      <td>0</td>\n",
       "      <td>0</td>\n",
       "      <td>0</td>\n",
       "      <td>1</td>\n",
       "      <td>...</td>\n",
       "      <td>0</td>\n",
       "      <td>0</td>\n",
       "      <td>0</td>\n",
       "      <td>0</td>\n",
       "      <td>0</td>\n",
       "      <td>1</td>\n",
       "      <td>0</td>\n",
       "      <td>0</td>\n",
       "      <td>0</td>\n",
       "      <td>0</td>\n",
       "    </tr>\n",
       "    <tr>\n",
       "      <th>314305</th>\n",
       "      <td>0</td>\n",
       "      <td>1</td>\n",
       "      <td>0</td>\n",
       "      <td>0</td>\n",
       "      <td>0</td>\n",
       "      <td>0</td>\n",
       "      <td>0</td>\n",
       "      <td>0</td>\n",
       "      <td>0</td>\n",
       "      <td>0</td>\n",
       "      <td>...</td>\n",
       "      <td>0</td>\n",
       "      <td>0</td>\n",
       "      <td>1</td>\n",
       "      <td>0</td>\n",
       "      <td>0</td>\n",
       "      <td>0</td>\n",
       "      <td>0</td>\n",
       "      <td>0</td>\n",
       "      <td>0</td>\n",
       "      <td>1</td>\n",
       "    </tr>\n",
       "    <tr>\n",
       "      <th>314323</th>\n",
       "      <td>0</td>\n",
       "      <td>1</td>\n",
       "      <td>0</td>\n",
       "      <td>0</td>\n",
       "      <td>0</td>\n",
       "      <td>0</td>\n",
       "      <td>0</td>\n",
       "      <td>0</td>\n",
       "      <td>0</td>\n",
       "      <td>0</td>\n",
       "      <td>...</td>\n",
       "      <td>0</td>\n",
       "      <td>1</td>\n",
       "      <td>0</td>\n",
       "      <td>0</td>\n",
       "      <td>0</td>\n",
       "      <td>0</td>\n",
       "      <td>0</td>\n",
       "      <td>0</td>\n",
       "      <td>1</td>\n",
       "      <td>0</td>\n",
       "    </tr>\n",
       "    <tr>\n",
       "      <th>...</th>\n",
       "      <td>...</td>\n",
       "      <td>...</td>\n",
       "      <td>...</td>\n",
       "      <td>...</td>\n",
       "      <td>...</td>\n",
       "      <td>...</td>\n",
       "      <td>...</td>\n",
       "      <td>...</td>\n",
       "      <td>...</td>\n",
       "      <td>...</td>\n",
       "      <td>...</td>\n",
       "      <td>...</td>\n",
       "      <td>...</td>\n",
       "      <td>...</td>\n",
       "      <td>...</td>\n",
       "      <td>...</td>\n",
       "      <td>...</td>\n",
       "      <td>...</td>\n",
       "      <td>...</td>\n",
       "      <td>...</td>\n",
       "      <td>...</td>\n",
       "    </tr>\n",
       "    <tr>\n",
       "      <th>319080</th>\n",
       "      <td>1</td>\n",
       "      <td>0</td>\n",
       "      <td>0</td>\n",
       "      <td>0</td>\n",
       "      <td>0</td>\n",
       "      <td>0</td>\n",
       "      <td>0</td>\n",
       "      <td>0</td>\n",
       "      <td>1</td>\n",
       "      <td>0</td>\n",
       "      <td>...</td>\n",
       "      <td>1</td>\n",
       "      <td>0</td>\n",
       "      <td>0</td>\n",
       "      <td>1</td>\n",
       "      <td>0</td>\n",
       "      <td>0</td>\n",
       "      <td>0</td>\n",
       "      <td>0</td>\n",
       "      <td>0</td>\n",
       "      <td>0</td>\n",
       "    </tr>\n",
       "    <tr>\n",
       "      <th>319081</th>\n",
       "      <td>0</td>\n",
       "      <td>1</td>\n",
       "      <td>0</td>\n",
       "      <td>0</td>\n",
       "      <td>0</td>\n",
       "      <td>0</td>\n",
       "      <td>0</td>\n",
       "      <td>0</td>\n",
       "      <td>1</td>\n",
       "      <td>0</td>\n",
       "      <td>...</td>\n",
       "      <td>1</td>\n",
       "      <td>0</td>\n",
       "      <td>0</td>\n",
       "      <td>1</td>\n",
       "      <td>0</td>\n",
       "      <td>0</td>\n",
       "      <td>0</td>\n",
       "      <td>0</td>\n",
       "      <td>0</td>\n",
       "      <td>0</td>\n",
       "    </tr>\n",
       "    <tr>\n",
       "      <th>319082</th>\n",
       "      <td>0</td>\n",
       "      <td>0</td>\n",
       "      <td>0</td>\n",
       "      <td>1</td>\n",
       "      <td>0</td>\n",
       "      <td>0</td>\n",
       "      <td>0</td>\n",
       "      <td>0</td>\n",
       "      <td>1</td>\n",
       "      <td>0</td>\n",
       "      <td>...</td>\n",
       "      <td>1</td>\n",
       "      <td>0</td>\n",
       "      <td>0</td>\n",
       "      <td>0</td>\n",
       "      <td>0</td>\n",
       "      <td>0</td>\n",
       "      <td>0</td>\n",
       "      <td>1</td>\n",
       "      <td>0</td>\n",
       "      <td>0</td>\n",
       "    </tr>\n",
       "    <tr>\n",
       "      <th>319084</th>\n",
       "      <td>0</td>\n",
       "      <td>1</td>\n",
       "      <td>0</td>\n",
       "      <td>0</td>\n",
       "      <td>0</td>\n",
       "      <td>0</td>\n",
       "      <td>0</td>\n",
       "      <td>0</td>\n",
       "      <td>0</td>\n",
       "      <td>0</td>\n",
       "      <td>...</td>\n",
       "      <td>1</td>\n",
       "      <td>0</td>\n",
       "      <td>0</td>\n",
       "      <td>0</td>\n",
       "      <td>0</td>\n",
       "      <td>0</td>\n",
       "      <td>0</td>\n",
       "      <td>1</td>\n",
       "      <td>0</td>\n",
       "      <td>0</td>\n",
       "    </tr>\n",
       "    <tr>\n",
       "      <th>319085</th>\n",
       "      <td>0</td>\n",
       "      <td>0</td>\n",
       "      <td>1</td>\n",
       "      <td>0</td>\n",
       "      <td>0</td>\n",
       "      <td>0</td>\n",
       "      <td>0</td>\n",
       "      <td>1</td>\n",
       "      <td>0</td>\n",
       "      <td>0</td>\n",
       "      <td>...</td>\n",
       "      <td>1</td>\n",
       "      <td>0</td>\n",
       "      <td>0</td>\n",
       "      <td>0</td>\n",
       "      <td>0</td>\n",
       "      <td>0</td>\n",
       "      <td>0</td>\n",
       "      <td>0</td>\n",
       "      <td>0</td>\n",
       "      <td>1</td>\n",
       "    </tr>\n",
       "  </tbody>\n",
       "</table>\n",
       "<p>3949 rows × 35 columns</p>\n",
       "</div>"
      ],
      "text/plain": [
       "        Race_Asian  Race_Black  Race_Hispanic  Race_White  Age_0-2  Age_13-18  \\\n",
       "314216           0           1              0           0        0          0   \n",
       "314235           0           0              1           0        0          0   \n",
       "314267           0           1              0           0        0          0   \n",
       "314305           0           1              0           0        0          0   \n",
       "314323           0           1              0           0        0          0   \n",
       "...            ...         ...            ...         ...      ...        ...   \n",
       "319080           1           0              0           0        0          0   \n",
       "319081           0           1              0           0        0          0   \n",
       "319082           0           0              0           1        0          0   \n",
       "319084           0           1              0           0        0          0   \n",
       "319085           0           0              1           0        0          0   \n",
       "\n",
       "        Age_19-24  Age_25-34  Age_35-44  Age_45-54  ...  Month_7  Month_8  \\\n",
       "314216          0          0          0          1  ...        0        0   \n",
       "314235          0          0          1          0  ...        0        0   \n",
       "314267          0          0          0          1  ...        0        0   \n",
       "314305          0          0          0          0  ...        0        0   \n",
       "314323          0          0          0          0  ...        0        1   \n",
       "...           ...        ...        ...        ...  ...      ...      ...   \n",
       "319080          0          0          1          0  ...        1        0   \n",
       "319081          0          0          1          0  ...        1        0   \n",
       "319082          0          0          1          0  ...        1        0   \n",
       "319084          0          0          0          0  ...        1        0   \n",
       "319085          0          1          0          0  ...        1        0   \n",
       "\n",
       "        Month_9  day_of_week_Friday  day_of_week_Monday  day_of_week_Saturday  \\\n",
       "314216        0                   0                   1                     0   \n",
       "314235        0                   1                   0                     0   \n",
       "314267        0                   0                   0                     1   \n",
       "314305        1                   0                   0                     0   \n",
       "314323        0                   0                   0                     0   \n",
       "...         ...                 ...                 ...                   ...   \n",
       "319080        0                   1                   0                     0   \n",
       "319081        0                   1                   0                     0   \n",
       "319082        0                   0                   0                     0   \n",
       "319084        0                   0                   0                     0   \n",
       "319085        0                   0                   0                     0   \n",
       "\n",
       "        day_of_week_Sunday  day_of_week_Thursday  day_of_week_Tuesday  \\\n",
       "314216                   0                     0                    0   \n",
       "314235                   0                     0                    0   \n",
       "314267                   0                     0                    0   \n",
       "314305                   0                     0                    0   \n",
       "314323                   0                     0                    1   \n",
       "...                    ...                   ...                  ...   \n",
       "319080                   0                     0                    0   \n",
       "319081                   0                     0                    0   \n",
       "319082                   0                     1                    0   \n",
       "319084                   0                     1                    0   \n",
       "319085                   0                     0                    0   \n",
       "\n",
       "        day_of_week_Wednesday  \n",
       "314216                      0  \n",
       "314235                      0  \n",
       "314267                      0  \n",
       "314305                      1  \n",
       "314323                      0  \n",
       "...                       ...  \n",
       "319080                      0  \n",
       "319081                      0  \n",
       "319082                      0  \n",
       "319084                      0  \n",
       "319085                      1  \n",
       "\n",
       "[3949 rows x 35 columns]"
      ]
     },
     "execution_count": 63,
     "metadata": {},
     "output_type": "execute_result"
    }
   ],
   "source": [
    "data_encod = pd.get_dummies(data_encod)\n",
    "data_encod"
   ]
  },
  {
   "cell_type": "markdown",
   "id": "665cd490",
   "metadata": {},
   "source": [
    "## Standard Scaling"
   ]
  },
  {
   "cell_type": "code",
   "execution_count": 64,
   "id": "eb37cf5a",
   "metadata": {},
   "outputs": [
    {
     "data": {
      "text/html": [
       "<div>\n",
       "<style scoped>\n",
       "    .dataframe tbody tr th:only-of-type {\n",
       "        vertical-align: middle;\n",
       "    }\n",
       "\n",
       "    .dataframe tbody tr th {\n",
       "        vertical-align: top;\n",
       "    }\n",
       "\n",
       "    .dataframe thead th {\n",
       "        text-align: right;\n",
       "    }\n",
       "</style>\n",
       "<table border=\"1\" class=\"dataframe\">\n",
       "  <thead>\n",
       "    <tr style=\"text-align: right;\">\n",
       "      <th></th>\n",
       "      <th>Effectiveness</th>\n",
       "    </tr>\n",
       "  </thead>\n",
       "  <tbody>\n",
       "    <tr>\n",
       "      <th>0</th>\n",
       "      <td>-1.512045</td>\n",
       "    </tr>\n",
       "    <tr>\n",
       "      <th>1</th>\n",
       "      <td>-0.192327</td>\n",
       "    </tr>\n",
       "    <tr>\n",
       "      <th>2</th>\n",
       "      <td>0.467533</td>\n",
       "    </tr>\n",
       "    <tr>\n",
       "      <th>3</th>\n",
       "      <td>0.467533</td>\n",
       "    </tr>\n",
       "    <tr>\n",
       "      <th>4</th>\n",
       "      <td>1.127392</td>\n",
       "    </tr>\n",
       "    <tr>\n",
       "      <th>...</th>\n",
       "      <td>...</td>\n",
       "    </tr>\n",
       "    <tr>\n",
       "      <th>3944</th>\n",
       "      <td>-1.512045</td>\n",
       "    </tr>\n",
       "    <tr>\n",
       "      <th>3945</th>\n",
       "      <td>1.127392</td>\n",
       "    </tr>\n",
       "    <tr>\n",
       "      <th>3946</th>\n",
       "      <td>-0.192327</td>\n",
       "    </tr>\n",
       "    <tr>\n",
       "      <th>3947</th>\n",
       "      <td>0.467533</td>\n",
       "    </tr>\n",
       "    <tr>\n",
       "      <th>3948</th>\n",
       "      <td>0.467533</td>\n",
       "    </tr>\n",
       "  </tbody>\n",
       "</table>\n",
       "<p>3949 rows × 1 columns</p>\n",
       "</div>"
      ],
      "text/plain": [
       "      Effectiveness\n",
       "0         -1.512045\n",
       "1         -0.192327\n",
       "2          0.467533\n",
       "3          0.467533\n",
       "4          1.127392\n",
       "...             ...\n",
       "3944      -1.512045\n",
       "3945       1.127392\n",
       "3946      -0.192327\n",
       "3947       0.467533\n",
       "3948       0.467533\n",
       "\n",
       "[3949 rows x 1 columns]"
      ]
     },
     "execution_count": 64,
     "metadata": {},
     "output_type": "execute_result"
    }
   ],
   "source": [
    "from sklearn.preprocessing import StandardScaler\n",
    "mm = StandardScaler()\n",
    "data_num = mm.fit_transform(data_num)\n",
    "data_num = pd.DataFrame(data_num, columns = ['Effectiveness'])\n",
    "data_num"
   ]
  },
  {
   "cell_type": "code",
   "execution_count": 65,
   "id": "c0ea48ba",
   "metadata": {},
   "outputs": [
    {
     "data": {
      "text/html": [
       "<div>\n",
       "<style scoped>\n",
       "    .dataframe tbody tr th:only-of-type {\n",
       "        vertical-align: middle;\n",
       "    }\n",
       "\n",
       "    .dataframe tbody tr th {\n",
       "        vertical-align: top;\n",
       "    }\n",
       "\n",
       "    .dataframe thead th {\n",
       "        text-align: right;\n",
       "    }\n",
       "</style>\n",
       "<table border=\"1\" class=\"dataframe\">\n",
       "  <thead>\n",
       "    <tr style=\"text-align: right;\">\n",
       "      <th></th>\n",
       "      <th>Race_Asian</th>\n",
       "      <th>Race_Black</th>\n",
       "      <th>Race_Hispanic</th>\n",
       "      <th>Race_White</th>\n",
       "      <th>Age_0-2</th>\n",
       "      <th>Age_13-18</th>\n",
       "      <th>Age_19-24</th>\n",
       "      <th>Age_25-34</th>\n",
       "      <th>Age_35-44</th>\n",
       "      <th>Age_45-54</th>\n",
       "      <th>...</th>\n",
       "      <th>Month_8</th>\n",
       "      <th>Month_9</th>\n",
       "      <th>day_of_week_Friday</th>\n",
       "      <th>day_of_week_Monday</th>\n",
       "      <th>day_of_week_Saturday</th>\n",
       "      <th>day_of_week_Sunday</th>\n",
       "      <th>day_of_week_Thursday</th>\n",
       "      <th>day_of_week_Tuesday</th>\n",
       "      <th>day_of_week_Wednesday</th>\n",
       "      <th>Effectiveness</th>\n",
       "    </tr>\n",
       "  </thead>\n",
       "  <tbody>\n",
       "    <tr>\n",
       "      <th>314216</th>\n",
       "      <td>0</td>\n",
       "      <td>1</td>\n",
       "      <td>0</td>\n",
       "      <td>0</td>\n",
       "      <td>0</td>\n",
       "      <td>0</td>\n",
       "      <td>0</td>\n",
       "      <td>0</td>\n",
       "      <td>0</td>\n",
       "      <td>1</td>\n",
       "      <td>...</td>\n",
       "      <td>0</td>\n",
       "      <td>0</td>\n",
       "      <td>0</td>\n",
       "      <td>1</td>\n",
       "      <td>0</td>\n",
       "      <td>0</td>\n",
       "      <td>0</td>\n",
       "      <td>0</td>\n",
       "      <td>0</td>\n",
       "      <td>-1.512045</td>\n",
       "    </tr>\n",
       "    <tr>\n",
       "      <th>314235</th>\n",
       "      <td>0</td>\n",
       "      <td>0</td>\n",
       "      <td>1</td>\n",
       "      <td>0</td>\n",
       "      <td>0</td>\n",
       "      <td>0</td>\n",
       "      <td>0</td>\n",
       "      <td>0</td>\n",
       "      <td>1</td>\n",
       "      <td>0</td>\n",
       "      <td>...</td>\n",
       "      <td>0</td>\n",
       "      <td>0</td>\n",
       "      <td>1</td>\n",
       "      <td>0</td>\n",
       "      <td>0</td>\n",
       "      <td>0</td>\n",
       "      <td>0</td>\n",
       "      <td>0</td>\n",
       "      <td>0</td>\n",
       "      <td>-0.192327</td>\n",
       "    </tr>\n",
       "    <tr>\n",
       "      <th>314267</th>\n",
       "      <td>0</td>\n",
       "      <td>1</td>\n",
       "      <td>0</td>\n",
       "      <td>0</td>\n",
       "      <td>0</td>\n",
       "      <td>0</td>\n",
       "      <td>0</td>\n",
       "      <td>0</td>\n",
       "      <td>0</td>\n",
       "      <td>1</td>\n",
       "      <td>...</td>\n",
       "      <td>0</td>\n",
       "      <td>0</td>\n",
       "      <td>0</td>\n",
       "      <td>0</td>\n",
       "      <td>1</td>\n",
       "      <td>0</td>\n",
       "      <td>0</td>\n",
       "      <td>0</td>\n",
       "      <td>0</td>\n",
       "      <td>0.467533</td>\n",
       "    </tr>\n",
       "    <tr>\n",
       "      <th>314305</th>\n",
       "      <td>0</td>\n",
       "      <td>1</td>\n",
       "      <td>0</td>\n",
       "      <td>0</td>\n",
       "      <td>0</td>\n",
       "      <td>0</td>\n",
       "      <td>0</td>\n",
       "      <td>0</td>\n",
       "      <td>0</td>\n",
       "      <td>0</td>\n",
       "      <td>...</td>\n",
       "      <td>0</td>\n",
       "      <td>1</td>\n",
       "      <td>0</td>\n",
       "      <td>0</td>\n",
       "      <td>0</td>\n",
       "      <td>0</td>\n",
       "      <td>0</td>\n",
       "      <td>0</td>\n",
       "      <td>1</td>\n",
       "      <td>0.467533</td>\n",
       "    </tr>\n",
       "    <tr>\n",
       "      <th>314323</th>\n",
       "      <td>0</td>\n",
       "      <td>1</td>\n",
       "      <td>0</td>\n",
       "      <td>0</td>\n",
       "      <td>0</td>\n",
       "      <td>0</td>\n",
       "      <td>0</td>\n",
       "      <td>0</td>\n",
       "      <td>0</td>\n",
       "      <td>0</td>\n",
       "      <td>...</td>\n",
       "      <td>1</td>\n",
       "      <td>0</td>\n",
       "      <td>0</td>\n",
       "      <td>0</td>\n",
       "      <td>0</td>\n",
       "      <td>0</td>\n",
       "      <td>0</td>\n",
       "      <td>1</td>\n",
       "      <td>0</td>\n",
       "      <td>1.127392</td>\n",
       "    </tr>\n",
       "    <tr>\n",
       "      <th>...</th>\n",
       "      <td>...</td>\n",
       "      <td>...</td>\n",
       "      <td>...</td>\n",
       "      <td>...</td>\n",
       "      <td>...</td>\n",
       "      <td>...</td>\n",
       "      <td>...</td>\n",
       "      <td>...</td>\n",
       "      <td>...</td>\n",
       "      <td>...</td>\n",
       "      <td>...</td>\n",
       "      <td>...</td>\n",
       "      <td>...</td>\n",
       "      <td>...</td>\n",
       "      <td>...</td>\n",
       "      <td>...</td>\n",
       "      <td>...</td>\n",
       "      <td>...</td>\n",
       "      <td>...</td>\n",
       "      <td>...</td>\n",
       "      <td>...</td>\n",
       "    </tr>\n",
       "    <tr>\n",
       "      <th>319080</th>\n",
       "      <td>1</td>\n",
       "      <td>0</td>\n",
       "      <td>0</td>\n",
       "      <td>0</td>\n",
       "      <td>0</td>\n",
       "      <td>0</td>\n",
       "      <td>0</td>\n",
       "      <td>0</td>\n",
       "      <td>1</td>\n",
       "      <td>0</td>\n",
       "      <td>...</td>\n",
       "      <td>0</td>\n",
       "      <td>0</td>\n",
       "      <td>1</td>\n",
       "      <td>0</td>\n",
       "      <td>0</td>\n",
       "      <td>0</td>\n",
       "      <td>0</td>\n",
       "      <td>0</td>\n",
       "      <td>0</td>\n",
       "      <td>-1.512045</td>\n",
       "    </tr>\n",
       "    <tr>\n",
       "      <th>319081</th>\n",
       "      <td>0</td>\n",
       "      <td>1</td>\n",
       "      <td>0</td>\n",
       "      <td>0</td>\n",
       "      <td>0</td>\n",
       "      <td>0</td>\n",
       "      <td>0</td>\n",
       "      <td>0</td>\n",
       "      <td>1</td>\n",
       "      <td>0</td>\n",
       "      <td>...</td>\n",
       "      <td>0</td>\n",
       "      <td>0</td>\n",
       "      <td>1</td>\n",
       "      <td>0</td>\n",
       "      <td>0</td>\n",
       "      <td>0</td>\n",
       "      <td>0</td>\n",
       "      <td>0</td>\n",
       "      <td>0</td>\n",
       "      <td>1.127392</td>\n",
       "    </tr>\n",
       "    <tr>\n",
       "      <th>319082</th>\n",
       "      <td>0</td>\n",
       "      <td>0</td>\n",
       "      <td>0</td>\n",
       "      <td>1</td>\n",
       "      <td>0</td>\n",
       "      <td>0</td>\n",
       "      <td>0</td>\n",
       "      <td>0</td>\n",
       "      <td>1</td>\n",
       "      <td>0</td>\n",
       "      <td>...</td>\n",
       "      <td>0</td>\n",
       "      <td>0</td>\n",
       "      <td>0</td>\n",
       "      <td>0</td>\n",
       "      <td>0</td>\n",
       "      <td>0</td>\n",
       "      <td>1</td>\n",
       "      <td>0</td>\n",
       "      <td>0</td>\n",
       "      <td>-0.192327</td>\n",
       "    </tr>\n",
       "    <tr>\n",
       "      <th>319084</th>\n",
       "      <td>0</td>\n",
       "      <td>1</td>\n",
       "      <td>0</td>\n",
       "      <td>0</td>\n",
       "      <td>0</td>\n",
       "      <td>0</td>\n",
       "      <td>0</td>\n",
       "      <td>0</td>\n",
       "      <td>0</td>\n",
       "      <td>0</td>\n",
       "      <td>...</td>\n",
       "      <td>0</td>\n",
       "      <td>0</td>\n",
       "      <td>0</td>\n",
       "      <td>0</td>\n",
       "      <td>0</td>\n",
       "      <td>0</td>\n",
       "      <td>1</td>\n",
       "      <td>0</td>\n",
       "      <td>0</td>\n",
       "      <td>0.467533</td>\n",
       "    </tr>\n",
       "    <tr>\n",
       "      <th>319085</th>\n",
       "      <td>0</td>\n",
       "      <td>0</td>\n",
       "      <td>1</td>\n",
       "      <td>0</td>\n",
       "      <td>0</td>\n",
       "      <td>0</td>\n",
       "      <td>0</td>\n",
       "      <td>1</td>\n",
       "      <td>0</td>\n",
       "      <td>0</td>\n",
       "      <td>...</td>\n",
       "      <td>0</td>\n",
       "      <td>0</td>\n",
       "      <td>0</td>\n",
       "      <td>0</td>\n",
       "      <td>0</td>\n",
       "      <td>0</td>\n",
       "      <td>0</td>\n",
       "      <td>0</td>\n",
       "      <td>1</td>\n",
       "      <td>0.467533</td>\n",
       "    </tr>\n",
       "  </tbody>\n",
       "</table>\n",
       "<p>3949 rows × 36 columns</p>\n",
       "</div>"
      ],
      "text/plain": [
       "        Race_Asian  Race_Black  Race_Hispanic  Race_White  Age_0-2  Age_13-18  \\\n",
       "314216           0           1              0           0        0          0   \n",
       "314235           0           0              1           0        0          0   \n",
       "314267           0           1              0           0        0          0   \n",
       "314305           0           1              0           0        0          0   \n",
       "314323           0           1              0           0        0          0   \n",
       "...            ...         ...            ...         ...      ...        ...   \n",
       "319080           1           0              0           0        0          0   \n",
       "319081           0           1              0           0        0          0   \n",
       "319082           0           0              0           1        0          0   \n",
       "319084           0           1              0           0        0          0   \n",
       "319085           0           0              1           0        0          0   \n",
       "\n",
       "        Age_19-24  Age_25-34  Age_35-44  Age_45-54  ...  Month_8  Month_9  \\\n",
       "314216          0          0          0          1  ...        0        0   \n",
       "314235          0          0          1          0  ...        0        0   \n",
       "314267          0          0          0          1  ...        0        0   \n",
       "314305          0          0          0          0  ...        0        1   \n",
       "314323          0          0          0          0  ...        1        0   \n",
       "...           ...        ...        ...        ...  ...      ...      ...   \n",
       "319080          0          0          1          0  ...        0        0   \n",
       "319081          0          0          1          0  ...        0        0   \n",
       "319082          0          0          1          0  ...        0        0   \n",
       "319084          0          0          0          0  ...        0        0   \n",
       "319085          0          1          0          0  ...        0        0   \n",
       "\n",
       "        day_of_week_Friday  day_of_week_Monday  day_of_week_Saturday  \\\n",
       "314216                   0                   1                     0   \n",
       "314235                   1                   0                     0   \n",
       "314267                   0                   0                     1   \n",
       "314305                   0                   0                     0   \n",
       "314323                   0                   0                     0   \n",
       "...                    ...                 ...                   ...   \n",
       "319080                   1                   0                     0   \n",
       "319081                   1                   0                     0   \n",
       "319082                   0                   0                     0   \n",
       "319084                   0                   0                     0   \n",
       "319085                   0                   0                     0   \n",
       "\n",
       "        day_of_week_Sunday  day_of_week_Thursday  day_of_week_Tuesday  \\\n",
       "314216                   0                     0                    0   \n",
       "314235                   0                     0                    0   \n",
       "314267                   0                     0                    0   \n",
       "314305                   0                     0                    0   \n",
       "314323                   0                     0                    1   \n",
       "...                    ...                   ...                  ...   \n",
       "319080                   0                     0                    0   \n",
       "319081                   0                     0                    0   \n",
       "319082                   0                     1                    0   \n",
       "319084                   0                     1                    0   \n",
       "319085                   0                     0                    0   \n",
       "\n",
       "        day_of_week_Wednesday  Effectiveness  \n",
       "314216                      0      -1.512045  \n",
       "314235                      0      -0.192327  \n",
       "314267                      0       0.467533  \n",
       "314305                      1       0.467533  \n",
       "314323                      0       1.127392  \n",
       "...                       ...            ...  \n",
       "319080                      0      -1.512045  \n",
       "319081                      0       1.127392  \n",
       "319082                      0      -0.192327  \n",
       "319084                      0       0.467533  \n",
       "319085                      1       0.467533  \n",
       "\n",
       "[3949 rows x 36 columns]"
      ]
     },
     "execution_count": 65,
     "metadata": {},
     "output_type": "execute_result"
    }
   ],
   "source": [
    "data3 = data_encod\n",
    "data3['Effectiveness'] = data_num.values\n",
    "data3"
   ]
  },
  {
   "cell_type": "markdown",
   "id": "e262fd39",
   "metadata": {},
   "source": [
    "So finally what I suppose is the following features which are race, age, review rank and effectiveness can form the dataset which will predict the sideeffect of the user."
   ]
  },
  {
   "cell_type": "code",
   "execution_count": 67,
   "id": "4b831e12",
   "metadata": {},
   "outputs": [
    {
     "data": {
      "text/html": [
       "<div>\n",
       "<style scoped>\n",
       "    .dataframe tbody tr th:only-of-type {\n",
       "        vertical-align: middle;\n",
       "    }\n",
       "\n",
       "    .dataframe tbody tr th {\n",
       "        vertical-align: top;\n",
       "    }\n",
       "\n",
       "    .dataframe thead th {\n",
       "        text-align: right;\n",
       "    }\n",
       "</style>\n",
       "<table border=\"1\" class=\"dataframe\">\n",
       "  <thead>\n",
       "    <tr style=\"text-align: right;\">\n",
       "      <th></th>\n",
       "      <th>Race_Asian</th>\n",
       "      <th>Race_Black</th>\n",
       "      <th>Race_Hispanic</th>\n",
       "      <th>Race_White</th>\n",
       "      <th>Age_0-2</th>\n",
       "      <th>Age_13-18</th>\n",
       "      <th>Age_19-24</th>\n",
       "      <th>Age_25-34</th>\n",
       "      <th>Age_35-44</th>\n",
       "      <th>Age_45-54</th>\n",
       "      <th>...</th>\n",
       "      <th>day_of_week_Monday</th>\n",
       "      <th>day_of_week_Saturday</th>\n",
       "      <th>day_of_week_Sunday</th>\n",
       "      <th>day_of_week_Thursday</th>\n",
       "      <th>day_of_week_Tuesday</th>\n",
       "      <th>day_of_week_Wednesday</th>\n",
       "      <th>Effectiveness</th>\n",
       "      <th>Reviews_Rank</th>\n",
       "      <th>UsefulCount_boxcox</th>\n",
       "      <th>EaseofUse_boxcox</th>\n",
       "    </tr>\n",
       "  </thead>\n",
       "  <tbody>\n",
       "    <tr>\n",
       "      <th>314216</th>\n",
       "      <td>0</td>\n",
       "      <td>1</td>\n",
       "      <td>0</td>\n",
       "      <td>0</td>\n",
       "      <td>0</td>\n",
       "      <td>0</td>\n",
       "      <td>0</td>\n",
       "      <td>0</td>\n",
       "      <td>0</td>\n",
       "      <td>1</td>\n",
       "      <td>...</td>\n",
       "      <td>1</td>\n",
       "      <td>0</td>\n",
       "      <td>0</td>\n",
       "      <td>0</td>\n",
       "      <td>0</td>\n",
       "      <td>0</td>\n",
       "      <td>-1.512045</td>\n",
       "      <td>0.0</td>\n",
       "      <td>-1.660692</td>\n",
       "      <td>-1.156965</td>\n",
       "    </tr>\n",
       "    <tr>\n",
       "      <th>314235</th>\n",
       "      <td>0</td>\n",
       "      <td>0</td>\n",
       "      <td>1</td>\n",
       "      <td>0</td>\n",
       "      <td>0</td>\n",
       "      <td>0</td>\n",
       "      <td>0</td>\n",
       "      <td>0</td>\n",
       "      <td>1</td>\n",
       "      <td>0</td>\n",
       "      <td>...</td>\n",
       "      <td>0</td>\n",
       "      <td>0</td>\n",
       "      <td>0</td>\n",
       "      <td>0</td>\n",
       "      <td>0</td>\n",
       "      <td>0</td>\n",
       "      <td>-0.192327</td>\n",
       "      <td>0.0</td>\n",
       "      <td>-1.660692</td>\n",
       "      <td>-1.156965</td>\n",
       "    </tr>\n",
       "    <tr>\n",
       "      <th>314267</th>\n",
       "      <td>0</td>\n",
       "      <td>1</td>\n",
       "      <td>0</td>\n",
       "      <td>0</td>\n",
       "      <td>0</td>\n",
       "      <td>0</td>\n",
       "      <td>0</td>\n",
       "      <td>0</td>\n",
       "      <td>0</td>\n",
       "      <td>1</td>\n",
       "      <td>...</td>\n",
       "      <td>0</td>\n",
       "      <td>1</td>\n",
       "      <td>0</td>\n",
       "      <td>0</td>\n",
       "      <td>0</td>\n",
       "      <td>0</td>\n",
       "      <td>0.467533</td>\n",
       "      <td>1.0</td>\n",
       "      <td>-1.660692</td>\n",
       "      <td>0.849923</td>\n",
       "    </tr>\n",
       "    <tr>\n",
       "      <th>314305</th>\n",
       "      <td>0</td>\n",
       "      <td>1</td>\n",
       "      <td>0</td>\n",
       "      <td>0</td>\n",
       "      <td>0</td>\n",
       "      <td>0</td>\n",
       "      <td>0</td>\n",
       "      <td>0</td>\n",
       "      <td>0</td>\n",
       "      <td>0</td>\n",
       "      <td>...</td>\n",
       "      <td>0</td>\n",
       "      <td>0</td>\n",
       "      <td>0</td>\n",
       "      <td>0</td>\n",
       "      <td>0</td>\n",
       "      <td>1</td>\n",
       "      <td>0.467533</td>\n",
       "      <td>1.0</td>\n",
       "      <td>-1.660692</td>\n",
       "      <td>0.849923</td>\n",
       "    </tr>\n",
       "    <tr>\n",
       "      <th>314323</th>\n",
       "      <td>0</td>\n",
       "      <td>1</td>\n",
       "      <td>0</td>\n",
       "      <td>0</td>\n",
       "      <td>0</td>\n",
       "      <td>0</td>\n",
       "      <td>0</td>\n",
       "      <td>0</td>\n",
       "      <td>0</td>\n",
       "      <td>0</td>\n",
       "      <td>...</td>\n",
       "      <td>0</td>\n",
       "      <td>0</td>\n",
       "      <td>0</td>\n",
       "      <td>0</td>\n",
       "      <td>1</td>\n",
       "      <td>0</td>\n",
       "      <td>1.127392</td>\n",
       "      <td>1.0</td>\n",
       "      <td>-1.308212</td>\n",
       "      <td>0.849923</td>\n",
       "    </tr>\n",
       "    <tr>\n",
       "      <th>...</th>\n",
       "      <td>...</td>\n",
       "      <td>...</td>\n",
       "      <td>...</td>\n",
       "      <td>...</td>\n",
       "      <td>...</td>\n",
       "      <td>...</td>\n",
       "      <td>...</td>\n",
       "      <td>...</td>\n",
       "      <td>...</td>\n",
       "      <td>...</td>\n",
       "      <td>...</td>\n",
       "      <td>...</td>\n",
       "      <td>...</td>\n",
       "      <td>...</td>\n",
       "      <td>...</td>\n",
       "      <td>...</td>\n",
       "      <td>...</td>\n",
       "      <td>...</td>\n",
       "      <td>...</td>\n",
       "      <td>...</td>\n",
       "      <td>...</td>\n",
       "    </tr>\n",
       "    <tr>\n",
       "      <th>319080</th>\n",
       "      <td>1</td>\n",
       "      <td>0</td>\n",
       "      <td>0</td>\n",
       "      <td>0</td>\n",
       "      <td>0</td>\n",
       "      <td>0</td>\n",
       "      <td>0</td>\n",
       "      <td>0</td>\n",
       "      <td>1</td>\n",
       "      <td>0</td>\n",
       "      <td>...</td>\n",
       "      <td>0</td>\n",
       "      <td>0</td>\n",
       "      <td>0</td>\n",
       "      <td>0</td>\n",
       "      <td>0</td>\n",
       "      <td>0</td>\n",
       "      <td>-1.512045</td>\n",
       "      <td>0.0</td>\n",
       "      <td>1.103079</td>\n",
       "      <td>0.849923</td>\n",
       "    </tr>\n",
       "    <tr>\n",
       "      <th>319081</th>\n",
       "      <td>0</td>\n",
       "      <td>1</td>\n",
       "      <td>0</td>\n",
       "      <td>0</td>\n",
       "      <td>0</td>\n",
       "      <td>0</td>\n",
       "      <td>0</td>\n",
       "      <td>0</td>\n",
       "      <td>1</td>\n",
       "      <td>0</td>\n",
       "      <td>...</td>\n",
       "      <td>0</td>\n",
       "      <td>0</td>\n",
       "      <td>0</td>\n",
       "      <td>0</td>\n",
       "      <td>0</td>\n",
       "      <td>0</td>\n",
       "      <td>1.127392</td>\n",
       "      <td>1.0</td>\n",
       "      <td>0.026063</td>\n",
       "      <td>0.849923</td>\n",
       "    </tr>\n",
       "    <tr>\n",
       "      <th>319082</th>\n",
       "      <td>0</td>\n",
       "      <td>0</td>\n",
       "      <td>0</td>\n",
       "      <td>1</td>\n",
       "      <td>0</td>\n",
       "      <td>0</td>\n",
       "      <td>0</td>\n",
       "      <td>0</td>\n",
       "      <td>1</td>\n",
       "      <td>0</td>\n",
       "      <td>...</td>\n",
       "      <td>0</td>\n",
       "      <td>0</td>\n",
       "      <td>0</td>\n",
       "      <td>1</td>\n",
       "      <td>0</td>\n",
       "      <td>0</td>\n",
       "      <td>-0.192327</td>\n",
       "      <td>0.0</td>\n",
       "      <td>0.572660</td>\n",
       "      <td>0.849923</td>\n",
       "    </tr>\n",
       "    <tr>\n",
       "      <th>319084</th>\n",
       "      <td>0</td>\n",
       "      <td>1</td>\n",
       "      <td>0</td>\n",
       "      <td>0</td>\n",
       "      <td>0</td>\n",
       "      <td>0</td>\n",
       "      <td>0</td>\n",
       "      <td>0</td>\n",
       "      <td>0</td>\n",
       "      <td>0</td>\n",
       "      <td>...</td>\n",
       "      <td>0</td>\n",
       "      <td>0</td>\n",
       "      <td>0</td>\n",
       "      <td>1</td>\n",
       "      <td>0</td>\n",
       "      <td>0</td>\n",
       "      <td>0.467533</td>\n",
       "      <td>1.0</td>\n",
       "      <td>0.026063</td>\n",
       "      <td>-0.405592</td>\n",
       "    </tr>\n",
       "    <tr>\n",
       "      <th>319085</th>\n",
       "      <td>0</td>\n",
       "      <td>0</td>\n",
       "      <td>1</td>\n",
       "      <td>0</td>\n",
       "      <td>0</td>\n",
       "      <td>0</td>\n",
       "      <td>0</td>\n",
       "      <td>1</td>\n",
       "      <td>0</td>\n",
       "      <td>0</td>\n",
       "      <td>...</td>\n",
       "      <td>0</td>\n",
       "      <td>0</td>\n",
       "      <td>0</td>\n",
       "      <td>0</td>\n",
       "      <td>0</td>\n",
       "      <td>1</td>\n",
       "      <td>0.467533</td>\n",
       "      <td>0.0</td>\n",
       "      <td>0.225374</td>\n",
       "      <td>0.849923</td>\n",
       "    </tr>\n",
       "  </tbody>\n",
       "</table>\n",
       "<p>3949 rows × 39 columns</p>\n",
       "</div>"
      ],
      "text/plain": [
       "        Race_Asian  Race_Black  Race_Hispanic  Race_White  Age_0-2  Age_13-18  \\\n",
       "314216           0           1              0           0        0          0   \n",
       "314235           0           0              1           0        0          0   \n",
       "314267           0           1              0           0        0          0   \n",
       "314305           0           1              0           0        0          0   \n",
       "314323           0           1              0           0        0          0   \n",
       "...            ...         ...            ...         ...      ...        ...   \n",
       "319080           1           0              0           0        0          0   \n",
       "319081           0           1              0           0        0          0   \n",
       "319082           0           0              0           1        0          0   \n",
       "319084           0           1              0           0        0          0   \n",
       "319085           0           0              1           0        0          0   \n",
       "\n",
       "        Age_19-24  Age_25-34  Age_35-44  Age_45-54  ...  day_of_week_Monday  \\\n",
       "314216          0          0          0          1  ...                   1   \n",
       "314235          0          0          1          0  ...                   0   \n",
       "314267          0          0          0          1  ...                   0   \n",
       "314305          0          0          0          0  ...                   0   \n",
       "314323          0          0          0          0  ...                   0   \n",
       "...           ...        ...        ...        ...  ...                 ...   \n",
       "319080          0          0          1          0  ...                   0   \n",
       "319081          0          0          1          0  ...                   0   \n",
       "319082          0          0          1          0  ...                   0   \n",
       "319084          0          0          0          0  ...                   0   \n",
       "319085          0          1          0          0  ...                   0   \n",
       "\n",
       "        day_of_week_Saturday  day_of_week_Sunday  day_of_week_Thursday  \\\n",
       "314216                     0                   0                     0   \n",
       "314235                     0                   0                     0   \n",
       "314267                     1                   0                     0   \n",
       "314305                     0                   0                     0   \n",
       "314323                     0                   0                     0   \n",
       "...                      ...                 ...                   ...   \n",
       "319080                     0                   0                     0   \n",
       "319081                     0                   0                     0   \n",
       "319082                     0                   0                     1   \n",
       "319084                     0                   0                     1   \n",
       "319085                     0                   0                     0   \n",
       "\n",
       "        day_of_week_Tuesday  day_of_week_Wednesday  Effectiveness  \\\n",
       "314216                    0                      0      -1.512045   \n",
       "314235                    0                      0      -0.192327   \n",
       "314267                    0                      0       0.467533   \n",
       "314305                    0                      1       0.467533   \n",
       "314323                    1                      0       1.127392   \n",
       "...                     ...                    ...            ...   \n",
       "319080                    0                      0      -1.512045   \n",
       "319081                    0                      0       1.127392   \n",
       "319082                    0                      0      -0.192327   \n",
       "319084                    0                      0       0.467533   \n",
       "319085                    0                      1       0.467533   \n",
       "\n",
       "        Reviews_Rank  UsefulCount_boxcox  EaseofUse_boxcox  \n",
       "314216           0.0           -1.660692         -1.156965  \n",
       "314235           0.0           -1.660692         -1.156965  \n",
       "314267           1.0           -1.660692          0.849923  \n",
       "314305           1.0           -1.660692          0.849923  \n",
       "314323           1.0           -1.308212          0.849923  \n",
       "...              ...                 ...               ...  \n",
       "319080           0.0            1.103079          0.849923  \n",
       "319081           1.0            0.026063          0.849923  \n",
       "319082           0.0            0.572660          0.849923  \n",
       "319084           1.0            0.026063         -0.405592  \n",
       "319085           0.0            0.225374          0.849923  \n",
       "\n",
       "[3949 rows x 39 columns]"
      ]
     },
     "execution_count": 67,
     "metadata": {},
     "output_type": "execute_result"
    }
   ],
   "source": [
    "data3 = data_encod\n",
    "data3['Effectiveness'] = data_num.values\n",
    "data3['Reviews_Rank'] = df2.Reviews_Rank\n",
    "data3['UsefulCount_boxcox'] = data_Usefulcount1\n",
    "data3['EaseofUse_boxcox'] = data_EaseofUse1\n",
    "data3"
   ]
  },
  {
   "cell_type": "code",
   "execution_count": 69,
   "id": "20f8e28d",
   "metadata": {},
   "outputs": [
    {
     "data": {
      "text/html": [
       "<div>\n",
       "<style scoped>\n",
       "    .dataframe tbody tr th:only-of-type {\n",
       "        vertical-align: middle;\n",
       "    }\n",
       "\n",
       "    .dataframe tbody tr th {\n",
       "        vertical-align: top;\n",
       "    }\n",
       "\n",
       "    .dataframe thead th {\n",
       "        text-align: right;\n",
       "    }\n",
       "</style>\n",
       "<table border=\"1\" class=\"dataframe\">\n",
       "  <thead>\n",
       "    <tr style=\"text-align: right;\">\n",
       "      <th></th>\n",
       "      <th>Sideeffect</th>\n",
       "    </tr>\n",
       "  </thead>\n",
       "  <tbody>\n",
       "    <tr>\n",
       "      <th>314216</th>\n",
       "      <td>5</td>\n",
       "    </tr>\n",
       "    <tr>\n",
       "      <th>314235</th>\n",
       "      <td>4</td>\n",
       "    </tr>\n",
       "    <tr>\n",
       "      <th>314267</th>\n",
       "      <td>2</td>\n",
       "    </tr>\n",
       "    <tr>\n",
       "      <th>314305</th>\n",
       "      <td>2</td>\n",
       "    </tr>\n",
       "    <tr>\n",
       "      <th>314323</th>\n",
       "      <td>1</td>\n",
       "    </tr>\n",
       "    <tr>\n",
       "      <th>...</th>\n",
       "      <td>...</td>\n",
       "    </tr>\n",
       "    <tr>\n",
       "      <th>319080</th>\n",
       "      <td>5</td>\n",
       "    </tr>\n",
       "    <tr>\n",
       "      <th>319081</th>\n",
       "      <td>1</td>\n",
       "    </tr>\n",
       "    <tr>\n",
       "      <th>319082</th>\n",
       "      <td>4</td>\n",
       "    </tr>\n",
       "    <tr>\n",
       "      <th>319084</th>\n",
       "      <td>3</td>\n",
       "    </tr>\n",
       "    <tr>\n",
       "      <th>319085</th>\n",
       "      <td>5</td>\n",
       "    </tr>\n",
       "  </tbody>\n",
       "</table>\n",
       "<p>3949 rows × 1 columns</p>\n",
       "</div>"
      ],
      "text/plain": [
       "        Sideeffect\n",
       "314216           5\n",
       "314235           4\n",
       "314267           2\n",
       "314305           2\n",
       "314323           1\n",
       "...            ...\n",
       "319080           5\n",
       "319081           1\n",
       "319082           4\n",
       "319084           3\n",
       "319085           5\n",
       "\n",
       "[3949 rows x 1 columns]"
      ]
     },
     "execution_count": 69,
     "metadata": {},
     "output_type": "execute_result"
    }
   ],
   "source": [
    "data4 = pd.DataFrame(df2['Sideeffect'])\n",
    "data4"
   ]
  },
  {
   "cell_type": "code",
   "execution_count": 70,
   "id": "d00d6635",
   "metadata": {},
   "outputs": [],
   "source": [
    "from sklearn.model_selection import train_test_split\n",
    "X_train, X_test, Y_train, Y_test = train_test_split(data3,data4,test_size=0.25, random_state = 42, stratify=data4)"
   ]
  },
  {
   "cell_type": "markdown",
   "id": "1fcaf4c9",
   "metadata": {},
   "source": [
    "## Log Regression"
   ]
  },
  {
   "cell_type": "code",
   "execution_count": 73,
   "id": "9afa8759",
   "metadata": {},
   "outputs": [
    {
     "name": "stdout",
     "output_type": "stream",
     "text": [
      "0.7165991902834008\n"
     ]
    }
   ],
   "source": [
    "#log regression\n",
    "from sklearn.linear_model import LogisticRegression\n",
    "log_reg=LogisticRegression()\n",
    "# solver='lbfgs',max_iter=10000\n",
    "model1 = log_reg.fit(X_train,Y_train)\n",
    "Y_pred_logreg = model1.predict(X_test)\n",
    "\n",
    "#metrics\n",
    "from sklearn.metrics import confusion_matrix, precision_score, recall_score, f1_score, accuracy_score\n",
    "#print(confusion_matrix(Y_test,Y_pred_logreg))\n",
    "print(accuracy_score(Y_test,Y_pred_logreg))\n",
    "\n",
    "#CLassification Report\n",
    "#from sklearn.metrics import classification_report\n",
    "#report = classification_report(Y_test,Y_pred_logreg)\n",
    "#print(report)"
   ]
  },
  {
   "cell_type": "markdown",
   "id": "df00d4f8",
   "metadata": {},
   "source": [
    "## SVM Polynomial"
   ]
  },
  {
   "cell_type": "code",
   "execution_count": 74,
   "id": "2a53257b",
   "metadata": {},
   "outputs": [
    {
     "name": "stdout",
     "output_type": "stream",
     "text": [
      "0.7074898785425101\n"
     ]
    }
   ],
   "source": [
    "#SVM polynomial\n",
    "from sklearn.svm import SVC\n",
    "svm_clf_p = SVC(kernel='poly', degree = 4, probability=True)\n",
    "svm_model = svm_clf_p.fit(X_train, Y_train)\n",
    "y_pred_svmp = svm_clf_p.predict(X_test)\n",
    "# metrics\n",
    "#print(confusion_matrix(Y_test, y_pred_svmp))\n",
    "print(accuracy_score(Y_test, y_pred_svmp))\n",
    "\n",
    "#CLassification Report\n",
    "#from sklearn.metrics import classification_report\n",
    "#report = classification_report(Y_test,y_pred_svmp)\n",
    "#print(report)"
   ]
  },
  {
   "cell_type": "markdown",
   "id": "87fc33e2",
   "metadata": {},
   "source": [
    "## SVM RBF"
   ]
  },
  {
   "cell_type": "code",
   "execution_count": 75,
   "id": "dea4e302",
   "metadata": {},
   "outputs": [
    {
     "name": "stdout",
     "output_type": "stream",
     "text": [
      "0.7074898785425101\n"
     ]
    }
   ],
   "source": [
    "#SVM polynomial\n",
    "from sklearn.svm import SVC\n",
    "svm_clf_p = SVC(kernel='poly', degree = 4, probability=True)\n",
    "svm_model = svm_clf_p.fit(X_train, Y_train)\n",
    "y_pred_svmp = svm_clf_p.predict(X_test)\n",
    "# metrics\n",
    "#print(confusion_matrix(Y_test, y_pred_svmp))\n",
    "print(accuracy_score(Y_test, y_pred_svmp))\n",
    "\n",
    "#CLassification Report\n",
    "#from sklearn.metrics import classification_report\n",
    "#report = classification_report(Y_test,y_pred_svmp)\n",
    "#print(report)"
   ]
  },
  {
   "cell_type": "markdown",
   "id": "02619742",
   "metadata": {},
   "source": [
    "## kNN"
   ]
  },
  {
   "cell_type": "code",
   "execution_count": 76,
   "id": "babb81e7",
   "metadata": {},
   "outputs": [
    {
     "data": {
      "image/png": "[encoded data removed]",
      "text/plain": [
       "<Figure size 640x480 with 1 Axes>"
      ]
     },
     "metadata": {},
     "output_type": "display_data"
    }
   ],
   "source": [
    "#knn\n",
    "from sklearn.neighbors import KNeighborsClassifier\n",
    "metric_k = []\n",
    "neighbours = np.arange(3,15)\n",
    "\n",
    "for k in neighbours:\n",
    "        knn = KNeighborsClassifier(n_neighbors=k)\n",
    "        model2 = knn.fit(X_train, Y_train)\n",
    "        Y_pred_knn = model2.predict(X_test)\n",
    "        acc=accuracy_score(Y_test,Y_pred_knn)\n",
    "        metric_k.append(acc)\n",
    "        \n",
    "plt.plot(neighbours,metric_k,'*-')\n",
    "plt.xlabel('k value')\n",
    "plt.ylabel('accuracy')\n",
    "plt.grid()"
   ]
  },
  {
   "cell_type": "code",
   "execution_count": 78,
   "id": "7bc018cd",
   "metadata": {},
   "outputs": [
    {
     "name": "stdout",
     "output_type": "stream",
     "text": [
      "0.6325910931174089\n"
     ]
    }
   ],
   "source": [
    "knn = KNeighborsClassifier(n_neighbors=6)\n",
    "model2 = knn.fit(X_train, Y_train)\n",
    "Y_pred_knn = model2.predict(X_test)\n",
    "# metrics\n",
    "#print(confusion_matrix(Y_test,Y_pred_knn))\n",
    "print(accuracy_score(Y_test,Y_pred_knn))\n",
    "\n",
    "\n",
    "#CLassification Report\n",
    "#from sklearn.metrics import classification_report\n",
    "#report = classification_report(Y_test,Y_pred_knn)\n",
    "#print(report)"
   ]
  },
  {
   "cell_type": "markdown",
   "id": "ea4c80a8",
   "metadata": {},
   "source": [
    "## Decision Tree"
   ]
  },
  {
   "cell_type": "code",
   "execution_count": 79,
   "id": "5416a774",
   "metadata": {},
   "outputs": [
    {
     "name": "stdout",
     "output_type": "stream",
     "text": [
      "0.6427125506072875\n"
     ]
    }
   ],
   "source": [
    "#decision tree\n",
    "from sklearn.tree import DecisionTreeClassifier\n",
    "dtm_clf = DecisionTreeClassifier(random_state = 42)\n",
    "dtm_clf.fit(X_train, Y_train)\n",
    "y_pred_dtm = dtm_clf.predict(X_test)\n",
    "# metrics\n",
    "#print(confusion_matrix(Y_test, y_pred_dtm))\n",
    "print(accuracy_score(Y_test, y_pred_dtm))\n",
    "\n",
    "#CLassification Report\n",
    "#from sklearn.metrics import classification_report\n",
    "#report = classification_report(Y_test,y_pred_dtm)\n",
    "#print(report)"
   ]
  },
  {
   "cell_type": "markdown",
   "id": "6dff6414",
   "metadata": {},
   "source": [
    "## Random Forest"
   ]
  },
  {
   "cell_type": "code",
   "execution_count": 80,
   "id": "bae0e13b",
   "metadata": {},
   "outputs": [
    {
     "name": "stdout",
     "output_type": "stream",
     "text": [
      "0.708502024291498\n"
     ]
    }
   ],
   "source": [
    "#random forest model\n",
    "from sklearn.ensemble import RandomForestClassifier\n",
    "rfm_clf = RandomForestClassifier(random_state = 42)\n",
    "rfm_clf.fit(X_train, Y_train)\n",
    "y_pred_rfm = rfm_clf.predict(X_test)\n",
    "# metrics\n",
    "#print(confusion_matrix(Y_test, y_pred_rfm))\n",
    "print(accuracy_score(Y_test, y_pred_rfm))\n",
    "\n",
    "\n",
    "#CLassification Report\n",
    "#from sklearn.metrics import classification_report\n",
    "#report = classification_report(Y_test,y_pred_rfm)\n",
    "#print(report)"
   ]
  },
  {
   "cell_type": "markdown",
   "id": "52c5bd5f",
   "metadata": {},
   "source": [
    "## Hyper Tuning Parameters"
   ]
  },
  {
   "cell_type": "code",
   "execution_count": 81,
   "id": "62fce0fb",
   "metadata": {},
   "outputs": [
    {
     "name": "stdout",
     "output_type": "stream",
     "text": [
      "Fitting 3 folds for each of 2700 candidates, totalling 8100 fits\n"
     ]
    }
   ],
   "source": [
    "from sklearn.model_selection import GridSearchCV\n",
    "\n",
    "params = {'n_estimators': [1, 10, 100], 'criterion': ['gini', 'entropy'], 'min_samples_leaf' : list(range(25, 100)), 'min_samples_split': [2, 3, 4], 'max_features': ['auto','log2']}\n",
    "rfc_tuned = RandomForestClassifier()\n",
    "model_tuning_RF = GridSearchCV(rfc_tuned, param_grid=params, verbose=1, cv=3, scoring = 'recall')\n",
    "grid_rf_metrics = model_tuning_RF.fit(X_train, Y_train)"
   ]
  },
  {
   "cell_type": "code",
   "execution_count": 82,
   "id": "fbeee913",
   "metadata": {},
   "outputs": [
    {
     "name": "stdout",
     "output_type": "stream",
     "text": [
      "Best: nan using {'criterion': 'gini', 'max_features': 'auto', 'min_samples_leaf': 25, 'min_samples_split': 2, 'n_estimators': 1}\n"
     ]
    }
   ],
   "source": [
    "print(\"Best: %f using %s\" % (grid_rf_metrics.best_score_, grid_rf_metrics.best_params_))"
   ]
  },
  {
   "cell_type": "code",
   "execution_count": 84,
   "id": "5048a843",
   "metadata": {},
   "outputs": [
    {
     "name": "stdout",
     "output_type": "stream",
     "text": [
      "[[224  39   1   0   0]\n",
      " [ 51 100  17   0   0]\n",
      " [ 13  23  63   0  30]\n",
      " [  0   5  18   0  61]\n",
      " [  0   1  20   0 322]]\n",
      "0.7176113360323887\n"
     ]
    }
   ],
   "source": [
    "y_pred_rfm = model_tuning_RF.predict(X_test)\n",
    "# metrics\n",
    "print(confusion_matrix(Y_test, y_pred_rfm))\n",
    "print(accuracy_score(Y_test, y_pred_rfm))\n",
    "\n",
    "\n",
    "#CLassification Report\n",
    "#from sklearn.metrics import classification_report\n",
    "#report = classification_report(Y_test,y_pred_rfm)\n",
    "#print(report)"
   ]
  },
  {
   "cell_type": "markdown",
   "id": "493731d2",
   "metadata": {},
   "source": [
    "## Ridge Classifier"
   ]
  },
  {
   "cell_type": "code",
   "execution_count": 85,
   "id": "8b306de8",
   "metadata": {},
   "outputs": [
    {
     "name": "stdout",
     "output_type": "stream",
     "text": [
      "0.631578947368421\n"
     ]
    }
   ],
   "source": [
    "from sklearn.linear_model import RidgeClassifier\n",
    "rid_clf = RidgeClassifier()\n",
    "rid_clf.fit(X_train, Y_train)\n",
    "y_pred_rid = rid_clf.predict(X_test)\n",
    "# metrics\n",
    "#print(confusion_matrix(Y_test, y_pred_rid))\n",
    "print(accuracy_score(Y_test, y_pred_rid))\n",
    "\n",
    "\n",
    "#CLassification Report\n",
    "#from sklearn.metrics import classification_report\n",
    "#report = classification_report(Y_test,y_pred_rid)\n",
    "#print(report)"
   ]
  },
  {
   "cell_type": "markdown",
   "id": "e8970a75",
   "metadata": {},
   "source": [
    "## Gradient Boosting Classifier"
   ]
  },
  {
   "cell_type": "code",
   "execution_count": 86,
   "id": "a6ba0623",
   "metadata": {},
   "outputs": [
    {
     "name": "stdout",
     "output_type": "stream",
     "text": [
      "0.7267206477732794\n"
     ]
    }
   ],
   "source": [
    "from sklearn.ensemble import GradientBoostingClassifier\n",
    "grd_clf = GradientBoostingClassifier()\n",
    "grd_clf.fit(X_train, Y_train)\n",
    "y_pred_grd = grd_clf.predict(X_test)\n",
    "# metrics\n",
    "#print(confusion_matrix(Y_test, y_pred_grd))\n",
    "print(accuracy_score(Y_test, y_pred_grd))\n",
    "\n",
    "\n",
    "#CLassification Report\n",
    "#from sklearn.metrics import classification_report\n",
    "#report = classification_report(Y_test,y_pred_grd)\n",
    "#print(report)"
   ]
  },
  {
   "cell_type": "code",
   "execution_count": null,
   "id": "27346c5f",
   "metadata": {},
   "outputs": [],
   "source": []
  }
 ],
 "metadata": {
  "kernelspec": {
   "display_name": "Python 3 (ipykernel)",
   "language": "python",
   "name": "python3"
  },
  "language_info": {
   "codemirror_mode": {
    "name": "ipython",
    "version": 3
   },
   "file_extension": ".py",
   "mimetype": "text/x-python",
   "name": "python",
   "nbconvert_exporter": "python",
   "pygments_lexer": "ipython3",
   "version": "3.10.9"
  }
 },
 "nbformat": 4,
 "nbformat_minor": 5
}
